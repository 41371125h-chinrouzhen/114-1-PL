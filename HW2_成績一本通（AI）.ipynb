{
  "nbformat": 4,
  "nbformat_minor": 0,
  "metadata": {
    "colab": {
      "provenance": [],
      "authorship_tag": "ABX9TyM/Ljagfu1gcQOMOEejltfl",
      "include_colab_link": true
    },
    "kernelspec": {
      "name": "python3",
      "display_name": "Python 3"
    },
    "language_info": {
      "name": "python"
    }
  },
  "cells": [
    {
      "cell_type": "markdown",
      "metadata": {
        "id": "view-in-github",
        "colab_type": "text"
      },
      "source": [
        "<a href=\"https://colab.research.google.com/github/41371125h-chinrouzhen/114-1-PL/blob/main/HW2_%E6%88%90%E7%B8%BE%E4%B8%80%E6%9C%AC%E9%80%9A%EF%BC%88AI%EF%BC%89.ipynb\" target=\"_parent\"><img src=\"https://colab.research.google.com/assets/colab-badge.svg\" alt=\"Open In Colab\"/></a>"
      ]
    },
    {
      "cell_type": "markdown",
      "source": [
        "# **成績一本通**\n",
        "目標：從 Sheet 讀各次作業/測驗 → 計平時/期末/總成績 → 回寫成績總表。\n",
        "\n",
        "AI 點子：針對「開放式作答」欄位，用模型產出整體摘要與常見迷思整理（不評分，只做總結）。\n",
        "\n",
        "Google sheet鏈接:https://docs.google.com/spreadsheets/d/1HA1cvniLmO1O362GtHlrLEK3TQ8_XQJBULMpbaU-29s/edit?usp=sharing\n",
        "\n",
        "注記：API key不可用，無法生成相關總結\n"
      ],
      "metadata": {
        "id": "On0fqgj52yfv"
      }
    },
    {
      "cell_type": "code",
      "execution_count": 1,
      "metadata": {
        "colab": {
          "base_uri": "https://localhost:8080/"
        },
        "id": "BjhFiZbES9es",
        "outputId": "a0a13b40-44bd-43ed-de11-8c8a99abdbee"
      },
      "outputs": [
        {
          "output_type": "stream",
          "name": "stdout",
          "text": [
            "已更新\n"
          ]
        }
      ],
      "source": [
        "# 套件與認證\n",
        "import pandas as pd\n",
        "import numpy as np\n",
        "import gspread\n",
        "from google.colab import auth\n",
        "from google.auth import default\n",
        "import time\n",
        "from datetime import datetime\n",
        "import getpass\n",
        "\n",
        "auth.authenticate_user()\n",
        "creds, _ = default()\n",
        "client = gspread.authorize(creds)\n",
        "\n",
        "# Google Sheet\n",
        "SHEET_URL = \"https://docs.google.com/spreadsheets/d/1HA1cvniLmO1O362GtHlrLEK3TQ8_XQJBULMpbaU-29s/edit?usp=sharing\"\n",
        "RECORDS_SHEET = \"Records\"\n",
        "SUMMARY_SHEET = \"Summary\"\n",
        "\n",
        "# Reecord\n",
        "def read_records_df():\n",
        "    ws = client.open_by_url(SHEET_URL).worksheet(RECORDS_SHEET)\n",
        "    data = ws.get_all_values()\n",
        "    if not data:\n",
        "        return pd.DataFrame()\n",
        "    df = pd.DataFrame(data[1:], columns=data[0])\n",
        "    numeric_cols = [\"作業1\",\"作業2\",\"作業3\",\"小測1\",\"小測2\",\"期末\"]\n",
        "    for col in numeric_cols:\n",
        "        if col in df.columns:\n",
        "            df[col] = pd.to_numeric(df[col], errors=\"coerce\").fillna(0)\n",
        "    if '開放式作答' in df.columns:\n",
        "        df['開放式作答'] = df['開放式作答'].fillna(\"\").astype(str)\n",
        "    else:\n",
        "        df['開放式作答'] = \"\"\n",
        "    return df\n",
        "\n",
        "df = read_records_df()\n",
        "\n",
        "# Cal\n",
        "homework_cols = [\"作業1\",\"作業2\",\"作業3\"]\n",
        "quiz_cols = [\"小測1\",\"小測2\"]\n",
        "df['平時成績'] = df[homework_cols + quiz_cols].mean(axis=1)\n",
        "df['總成績'] = df['平時成績']*0.4 + df['期末']*0.6\n",
        "\n",
        "\n",
        "# 寫回\n",
        "try:\n",
        "    summary_ws = client.open_by_url(SHEET_URL).worksheet(SUMMARY_SHEET)\n",
        "    summary_ws.clear()\n",
        "except gspread.WorksheetNotFound:\n",
        "    summary_ws = client.open_by_url(SHEET_URL).add_worksheet(title=SUMMARY_SHEET, rows=\"100\", cols=\"20\")\n",
        "\n",
        "summary_ws.update([df.columns.values.tolist()] + df.values.tolist())\n",
        "print(f\"已更新\")\n",
        "\n"
      ]
    },
    {
      "cell_type": "code",
      "source": [
        "# 使用 Gemini API 生成摘要\n",
        "import google.generativeai as genai\n",
        "import getpass\n",
        "\n",
        "try:\n",
        "    # 手動輸入 API Key\n",
        "    GOOGLE_API_KEY = getpass.getpass(\"請輸入你的 Gemini API Key: \")\n",
        "    genai.configure(api_key=GOOGLE_API_KEY)\n",
        "\n",
        "    # 選用 Gemini 模型\n",
        "    gemini_model = genai.GenerativeModel(\"gemini-1.5-flash\")\n",
        "\n",
        "    # 合併所有開放式作答\n",
        "    all_responses = \"\\n\".join(df['開放式作答'].dropna().tolist())\n",
        "\n",
        "    # Prompt\n",
        "    prompt = f\"\"\"請根據以下學生的開放式作答內容，產出整體摘要與常見迷思整理：\n",
        "\n",
        "{all_responses}\n",
        "\n",
        "整體摘要：\n",
        "常見迷思：\n",
        "\"\"\"\n",
        "\n",
        "    # 生成回答\n",
        "    response = gemini_model.generate_content(prompt)\n",
        "\n",
        "    print(\"===== 整體摘要與常見迷思整理 =====\")\n",
        "    print(response.text)\n",
        "\n",
        "except Exception as e:\n",
        "    print(f\"❌ 無法使用 AI 模型生成摘要，錯誤訊息：{e}\")\n"
      ],
      "metadata": {
        "id": "r-PEHbvfXf7F",
        "colab": {
          "base_uri": "https://localhost:8080/",
          "height": 356
        },
        "outputId": "6428d918-4f96-49d7-901e-1065df5f2994"
      },
      "execution_count": 3,
      "outputs": [
        {
          "output_type": "error",
          "ename": "KeyboardInterrupt",
          "evalue": "Interrupted by user",
          "traceback": [
            "\u001b[0;31m---------------------------------------------------------------------------\u001b[0m",
            "\u001b[0;31mKeyboardInterrupt\u001b[0m                         Traceback (most recent call last)",
            "\u001b[0;32m/tmp/ipython-input-3883977408.py\u001b[0m in \u001b[0;36m<cell line: 0>\u001b[0;34m()\u001b[0m\n\u001b[1;32m      5\u001b[0m \u001b[0;32mtry\u001b[0m\u001b[0;34m:\u001b[0m\u001b[0;34m\u001b[0m\u001b[0;34m\u001b[0m\u001b[0m\n\u001b[1;32m      6\u001b[0m     \u001b[0;31m# 手動輸入 API Key\u001b[0m\u001b[0;34m\u001b[0m\u001b[0;34m\u001b[0m\u001b[0m\n\u001b[0;32m----> 7\u001b[0;31m     \u001b[0mGOOGLE_API_KEY\u001b[0m \u001b[0;34m=\u001b[0m \u001b[0mgetpass\u001b[0m\u001b[0;34m.\u001b[0m\u001b[0mgetpass\u001b[0m\u001b[0;34m(\u001b[0m\u001b[0;34m\"請輸入你的 Gemini API Key: \"\u001b[0m\u001b[0;34m)\u001b[0m\u001b[0;34m\u001b[0m\u001b[0;34m\u001b[0m\u001b[0m\n\u001b[0m\u001b[1;32m      8\u001b[0m     \u001b[0mgenai\u001b[0m\u001b[0;34m.\u001b[0m\u001b[0mconfigure\u001b[0m\u001b[0;34m(\u001b[0m\u001b[0mapi_key\u001b[0m\u001b[0;34m=\u001b[0m\u001b[0mGOOGLE_API_KEY\u001b[0m\u001b[0;34m)\u001b[0m\u001b[0;34m\u001b[0m\u001b[0;34m\u001b[0m\u001b[0m\n\u001b[1;32m      9\u001b[0m \u001b[0;34m\u001b[0m\u001b[0m\n",
            "\u001b[0;32m/usr/local/lib/python3.12/dist-packages/ipykernel/kernelbase.py\u001b[0m in \u001b[0;36mgetpass\u001b[0;34m(self, prompt, stream)\u001b[0m\n\u001b[1;32m   1157\u001b[0m                 \u001b[0mstacklevel\u001b[0m\u001b[0;34m=\u001b[0m\u001b[0;36m2\u001b[0m\u001b[0;34m,\u001b[0m\u001b[0;34m\u001b[0m\u001b[0;34m\u001b[0m\u001b[0m\n\u001b[1;32m   1158\u001b[0m             )\n\u001b[0;32m-> 1159\u001b[0;31m         return self._input_request(\n\u001b[0m\u001b[1;32m   1160\u001b[0m             \u001b[0mprompt\u001b[0m\u001b[0;34m,\u001b[0m\u001b[0;34m\u001b[0m\u001b[0;34m\u001b[0m\u001b[0m\n\u001b[1;32m   1161\u001b[0m             \u001b[0mself\u001b[0m\u001b[0;34m.\u001b[0m\u001b[0m_parent_ident\u001b[0m\u001b[0;34m[\u001b[0m\u001b[0;34m\"shell\"\u001b[0m\u001b[0;34m]\u001b[0m\u001b[0;34m,\u001b[0m\u001b[0;34m\u001b[0m\u001b[0;34m\u001b[0m\u001b[0m\n",
            "\u001b[0;32m/usr/local/lib/python3.12/dist-packages/ipykernel/kernelbase.py\u001b[0m in \u001b[0;36m_input_request\u001b[0;34m(self, prompt, ident, parent, password)\u001b[0m\n\u001b[1;32m   1217\u001b[0m             \u001b[0;32mexcept\u001b[0m \u001b[0mKeyboardInterrupt\u001b[0m\u001b[0;34m:\u001b[0m\u001b[0;34m\u001b[0m\u001b[0;34m\u001b[0m\u001b[0m\n\u001b[1;32m   1218\u001b[0m                 \u001b[0;31m# re-raise KeyboardInterrupt, to truncate traceback\u001b[0m\u001b[0;34m\u001b[0m\u001b[0;34m\u001b[0m\u001b[0m\n\u001b[0;32m-> 1219\u001b[0;31m                 \u001b[0;32mraise\u001b[0m \u001b[0mKeyboardInterrupt\u001b[0m\u001b[0;34m(\u001b[0m\u001b[0;34m\"Interrupted by user\"\u001b[0m\u001b[0;34m)\u001b[0m \u001b[0;32mfrom\u001b[0m \u001b[0;32mNone\u001b[0m\u001b[0;34m\u001b[0m\u001b[0;34m\u001b[0m\u001b[0m\n\u001b[0m\u001b[1;32m   1220\u001b[0m             \u001b[0;32mexcept\u001b[0m \u001b[0mException\u001b[0m\u001b[0;34m:\u001b[0m\u001b[0;34m\u001b[0m\u001b[0;34m\u001b[0m\u001b[0m\n\u001b[1;32m   1221\u001b[0m                 \u001b[0mself\u001b[0m\u001b[0;34m.\u001b[0m\u001b[0mlog\u001b[0m\u001b[0;34m.\u001b[0m\u001b[0mwarning\u001b[0m\u001b[0;34m(\u001b[0m\u001b[0;34m\"Invalid Message:\"\u001b[0m\u001b[0;34m,\u001b[0m \u001b[0mexc_info\u001b[0m\u001b[0;34m=\u001b[0m\u001b[0;32mTrue\u001b[0m\u001b[0;34m)\u001b[0m\u001b[0;34m\u001b[0m\u001b[0;34m\u001b[0m\u001b[0m\n",
            "\u001b[0;31mKeyboardInterrupt\u001b[0m: Interrupted by user"
          ]
        }
      ]
    },
    {
      "cell_type": "code",
      "source": [],
      "metadata": {
        "id": "dB8oaQeM4uJ9"
      },
      "execution_count": null,
      "outputs": []
    }
  ]
}