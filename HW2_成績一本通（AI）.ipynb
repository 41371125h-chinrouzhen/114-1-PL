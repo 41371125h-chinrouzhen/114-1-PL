{
  "nbformat": 4,
  "nbformat_minor": 0,
  "metadata": {
    "colab": {
      "provenance": [],
      "authorship_tag": "ABX9TyPNhj+ycMiuXsAREsTJsppX",
      "include_colab_link": true
    },
    "kernelspec": {
      "name": "python3",
      "display_name": "Python 3"
    },
    "language_info": {
      "name": "python"
    }
  },
  "cells": [
    {
      "cell_type": "markdown",
      "metadata": {
        "id": "view-in-github",
        "colab_type": "text"
      },
      "source": [
        "<a href=\"https://colab.research.google.com/github/41371125h-chinrouzhen/114-1-PL/blob/main/HW2_%E6%88%90%E7%B8%BE%E4%B8%80%E6%9C%AC%E9%80%9A%EF%BC%88AI%EF%BC%89.ipynb\" target=\"_parent\"><img src=\"https://colab.research.google.com/assets/colab-badge.svg\" alt=\"Open In Colab\"/></a>"
      ]
    },
    {
      "cell_type": "markdown",
      "source": [
        "# **成績一本通**\n",
        "目標：從 Sheet 讀各次作業/測驗 → 計平時/期末/總成績 → 回寫成績總表。\n",
        "\n",
        "AI 點子：針對「開放式作答」欄位，用模型產出整體摘要與常見迷思整理（不評分，只做總結）。\n",
        "\n",
        "Google sheet鏈接:https://docs.google.com/spreadsheets/d/1HA1cvniLmO1O362GtHlrLEK3TQ8_XQJBULMpbaU-29s/edit?usp=sharing\n",
        "\n",
        "注記：API key不可用，無法生成相關總結\n"
      ],
      "metadata": {
        "id": "On0fqgj52yfv"
      }
    },
    {
      "cell_type": "code",
      "source": [
        "# 安裝 匯入套件與認證\n",
        "!pip install -q gradio gspread pandas google-generativeai\n",
        "\n",
        "import pandas as pd\n",
        "import gspread\n",
        "from google.colab import auth, userdata\n",
        "from google.auth import default\n",
        "import google.generativeai as genai\n",
        "import gradio as gr"
      ],
      "metadata": {
        "id": "JuyuXUzsRS2J"
      },
      "execution_count": 3,
      "outputs": []
    },
    {
      "cell_type": "code",
      "source": [
        "# Google Sheets 認證\n",
        "gc = None\n",
        "try:\n",
        "    auth.authenticate_user()\n",
        "    creds, _ = default()\n",
        "    gc = gspread.authorize(creds)\n",
        "    print(\"✅ Google Sheets 認證成功。\")\n",
        "except Exception as e:\n",
        "    print(f\"❌ Google Sheets 認證失敗: {e}\")"
      ],
      "metadata": {
        "id": "LqB5sPaRadCr",
        "outputId": "982adf8b-b8ac-459c-ebd2-8f3cf7bdf438",
        "colab": {
          "base_uri": "https://localhost:8080/"
        }
      },
      "execution_count": 4,
      "outputs": [
        {
          "output_type": "stream",
          "name": "stdout",
          "text": [
            "✅ Google Sheets 認證成功。\n"
          ]
        }
      ]
    },
    {
      "cell_type": "code",
      "source": [
        "# Gemini API 認證 (使用 Colab Secrets)\n",
        "model = None\n",
        "try:\n",
        "    api_key = userdata.get('GEMINI_API_KEY')\n",
        "    if not api_key:\n",
        "        raise ValueError(\"在 Colab Secrets 中找不到 'GEMINI_API_KEY'。\")\n",
        "    genai.configure(api_key=api_key)\n",
        "    model = genai.GenerativeModel('gemini-2.5-flash')\n",
        "    print(\"✅ Gemini API 已成功設定。\")\n",
        "\n",
        "    # 執行一個簡單的測試來確認 API 是否正常運作\n",
        "    response = model.generate_content('Hi')\n",
        "    if response.text:\n",
        "      print(\"👍 Gemini API 測試連線成功。\")\n",
        "\n",
        "except Exception as e:\n",
        "    print(f\"❌ Gemini API 設定或測試失敗: {e}\")"
      ],
      "metadata": {
        "id": "QR3NM-JAbBNL",
        "outputId": "72ba46fa-e927-4259-bafe-603953795273",
        "colab": {
          "base_uri": "https://localhost:8080/",
          "height": 52
        }
      },
      "execution_count": 12,
      "outputs": [
        {
          "output_type": "stream",
          "name": "stdout",
          "text": [
            "✅ Gemini API 已成功設定。\n",
            "👍 Gemini API 測試連線成功。\n"
          ]
        }
      ]
    },
    {
      "cell_type": "code",
      "source": [
        "# AI\n",
        "def get_student_analysis(sheet_url, student_id):\n",
        "    \"\"\"\n",
        "    主要處理函式：根據 Google Sheet URL 和學號，取得成績並產生 AI 分析。\n",
        "    \"\"\"\n",
        "    if not gc or not model:\n",
        "        return None, \"錯誤：Google Sheets 或 Gemini API 未成功認證，請返回執行第二部分。\"\n",
        "\n",
        "    if not sheet_url or not student_id:\n",
        "        return None, \"錯誤：請務必輸入 Google Sheet 網址和學號。\"\n",
        "\n",
        "    try:\n",
        "        print(f\"正在處理請求：網址={sheet_url}, 學號={student_id}\")\n",
        "        spreadsheet = gc.open_by_url(sheet_url)\n",
        "        worksheet = spreadsheet.sheet1\n",
        "        data = worksheet.get_all_records()\n",
        "        df = pd.DataFrame(data)\n",
        "\n",
        "        # 確保 '學號' 欄位是字串型別，以便比對\n",
        "        if '學號' not in df.columns:\n",
        "            return None, \"錯誤：試算表中找不到 '學號' 欄位。\"\n",
        "        df['學號'] = df['學號'].astype(str)\n",
        "        student_id = str(student_id)\n",
        "\n",
        "        student_record = df[df['學號'] == student_id].copy()\n",
        "\n",
        "        if student_record.empty:\n",
        "            return None, f\"錯誤：在試算表中找不到學號為 '{student_id}' 的學生。\"\n",
        "\n",
        "        # --- 成績計算 ---\n",
        "        homework_cols = [col for col in df.columns if '作業' in col]\n",
        "        quiz_cols = [col for col in df.columns if '小測' in col]\n",
        "        final_exam_col = '期末'\n",
        "        score_cols = homework_cols + quiz_cols + [final_exam_col]\n",
        "\n",
        "        for col in score_cols:\n",
        "            if col in student_record.columns:\n",
        "                student_record[col] = pd.to_numeric(student_record[col], errors='coerce').fillna(0)\n",
        "\n",
        "        student_record['平時成績'] = student_record[homework_cols + quiz_cols].mean(axis=1)\n",
        "        student_record['總成績'] = student_record['平時成績'] * 0.4 + student_record.get(final_exam_col, 0) * 0.6\n",
        "\n",
        "        display_cols = ['學號'] + [col for col in score_cols if col in student_record.columns] + ['平時成績', '總成績']\n",
        "        result_df = student_record[display_cols]\n",
        "\n",
        "        # --- AI 學習建議 ---\n",
        "        prompt = f\"\"\"\n",
        "        你是一位專業的程式設計課程助教。請根據以下這位學生的成績，提供個人化的學習建議。\n",
        "        學號：{student_id}\n",
        "        成績資料：\n",
        "        {result_df.to_string(index=False)}\n",
        "        請依據以下結構提供回饋：\n",
        "        1.  **整體表現總結**\n",
        "        2.  **優勢分析**\n",
        "        3.  **待加強部分**\n",
        "        4.  **具體學習建議**\n",
        "        請用親切且鼓勵的語氣撰寫。\n",
        "        \"\"\"\n",
        "\n",
        "        print(\"正在產生 AI 建議...\")\n",
        "        response = model.generate_content(prompt)\n",
        "        ai_feedback = response.text\n",
        "        print(\"✅ 處理完成。\")\n",
        "        return result_df, ai_feedback\n",
        "\n",
        "    except gspread.exceptions.SpreadsheetNotFound:\n",
        "        return None, \"錯誤：找不到指定的 Google Sheet，請檢查網址是否正確或您是否有權限存取。\"\n",
        "    except Exception as e:\n",
        "        return None, f\"發生未預期的錯誤：{e}\"\n",
        "\n",
        "print(\"✅ 核心功能函式 get_student_analysis 已成功定義。\")"
      ],
      "metadata": {
        "id": "Bd3nkmUubbjE",
        "outputId": "408a4509-f7e4-43b7-b010-aed8adb74a40",
        "colab": {
          "base_uri": "https://localhost:8080/"
        }
      },
      "execution_count": 13,
      "outputs": [
        {
          "output_type": "stream",
          "name": "stdout",
          "text": [
            "✅ 核心功能函式 get_student_analysis 已成功定義。\n"
          ]
        }
      ]
    },
    {
      "cell_type": "code",
      "source": [
        "# Cell 4: 建立並啟動 Gradio 互動介面\n",
        "with gr.Blocks(theme=gr.themes.Soft()) as demo:\n",
        "    gr.Markdown(\"# 🤖 AI 成績單分析與個人化學習建議\")\n",
        "    gr.Markdown(\"請輸入您的 Google Sheet 網址與學號，系統將為您查詢成績並產生 AI 學習建議。\")\n",
        "\n",
        "    with gr.Row():\n",
        "        sheet_url = gr.Textbox(label=\"Google Sheet 網址\", placeholder=\"請貼上 Google Sheet 的完整網址...\")\n",
        "        student_id = gr.Textbox(label=\"學號\", placeholder=\"請輸入要查詢的學號...\")\n",
        "\n",
        "    submit_btn = gr.Button(\"查詢成績與取得建議\", variant=\"primary\")\n",
        "\n",
        "    gr.Markdown(\"---\")\n",
        "    gr.Markdown(\"### 查詢結果\")\n",
        "\n",
        "    student_scores = gr.DataFrame(label=\"個人成績總覽\")\n",
        "\n",
        "    gr.Markdown(\"### 🤖 AI 學習建議\")\n",
        "    ai_feedback_output = gr.Markdown(label=\"個人化建議\")\n",
        "\n",
        "    submit_btn.click(\n",
        "        fn=get_student_analysis,\n",
        "        inputs=[sheet_url, student_id],\n",
        "        outputs=[student_scores, ai_feedback_output]\n",
        "    )\n",
        "\n",
        "print(\"Gradio 介面準備啟動...\")\n",
        "demo.launch(debug=True)"
      ],
      "metadata": {
        "id": "J_mS8uaUb1Pa",
        "outputId": "17c9b974-da01-4422-b60b-eb956946d469",
        "colab": {
          "base_uri": "https://localhost:8080/",
          "height": 750
        }
      },
      "execution_count": 14,
      "outputs": [
        {
          "output_type": "stream",
          "name": "stdout",
          "text": [
            "Gradio 介面準備啟動...\n",
            "It looks like you are running Gradio on a hosted Jupyter notebook, which requires `share=True`. Automatically setting `share=True` (you can turn this off by setting `share=False` in `launch()` explicitly).\n",
            "\n",
            "Colab notebook detected. This cell will run indefinitely so that you can see errors and logs. To turn off, set debug=False in launch().\n",
            "* Running on public URL: https://47f031c32409208495.gradio.live\n",
            "\n",
            "This share link expires in 1 week. For free permanent hosting and GPU upgrades, run `gradio deploy` from the terminal in the working directory to deploy to Hugging Face Spaces (https://huggingface.co/spaces)\n"
          ]
        },
        {
          "output_type": "display_data",
          "data": {
            "text/plain": [
              "<IPython.core.display.HTML object>"
            ],
            "text/html": [
              "<div><iframe src=\"https://47f031c32409208495.gradio.live\" width=\"100%\" height=\"500\" allow=\"autoplay; camera; microphone; clipboard-read; clipboard-write;\" frameborder=\"0\" allowfullscreen></iframe></div>"
            ]
          },
          "metadata": {}
        },
        {
          "output_type": "stream",
          "name": "stdout",
          "text": [
            "正在處理請求：網址=https://docs.google.com/spreadsheets/d/1HA1cvniLmO1O362GtHlrLEK3TQ8_XQJBULMpbaU-29s/edit?usp=sharing, 學號=S011\n",
            "正在產生 AI 建議...\n",
            "✅ 處理完成。\n",
            "Keyboard interruption in main thread... closing server.\n",
            "Killing tunnel 127.0.0.1:7860 <> https://47f031c32409208495.gradio.live\n"
          ]
        },
        {
          "output_type": "execute_result",
          "data": {
            "text/plain": []
          },
          "metadata": {},
          "execution_count": 14
        }
      ]
    },
    {
      "cell_type": "code",
      "source": [],
      "metadata": {
        "id": "Y0wY57K6b2Cz"
      },
      "execution_count": null,
      "outputs": []
    }
  ]
}