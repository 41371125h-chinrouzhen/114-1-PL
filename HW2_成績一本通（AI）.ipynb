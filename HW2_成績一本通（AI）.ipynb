{
  "nbformat": 4,
  "nbformat_minor": 0,
  "metadata": {
    "colab": {
      "provenance": [],
      "authorship_tag": "ABX9TyNFeg4NTTQHxVdTRitudHFy",
      "include_colab_link": true
    },
    "kernelspec": {
      "name": "python3",
      "display_name": "Python 3"
    },
    "language_info": {
      "name": "python"
    }
  },
  "cells": [
    {
      "cell_type": "markdown",
      "metadata": {
        "id": "view-in-github",
        "colab_type": "text"
      },
      "source": [
        "<a href=\"https://colab.research.google.com/github/41371125h-chinrouzhen/114-1-PL/blob/main/HW2_%E6%88%90%E7%B8%BE%E4%B8%80%E6%9C%AC%E9%80%9A%EF%BC%88AI%EF%BC%89.ipynb\" target=\"_parent\"><img src=\"https://colab.research.google.com/assets/colab-badge.svg\" alt=\"Open In Colab\"/></a>"
      ]
    },
    {
      "cell_type": "markdown",
      "source": [
        "# **成績一本通**\n",
        "目標：從 Sheet 讀各次作業/測驗 → 計平時/期末/總成績 → 回寫成績總表。\n",
        "\n",
        "AI 點子：針對「開放式作答」欄位，用模型產出整體摘要與常見迷思整理（不評分，只做總結）。\n",
        "\n",
        "Google sheet鏈接:https://docs.google.com/spreadsheets/d/1HA1cvniLmO1O362GtHlrLEK3TQ8_XQJBULMpbaU-29s/edit?usp=sharing"
      ],
      "metadata": {
        "id": "On0fqgj52yfv"
      }
    },
    {
      "cell_type": "code",
      "source": [
        "# 安裝 匯入套件與認證\n",
        "!pip install -q gradio gspread pandas google-generativeai\n",
        "\n",
        "import pandas as pd\n",
        "import gspread\n",
        "from google.colab import auth, userdata\n",
        "from google.auth import default\n",
        "import google.generativeai as genai\n",
        "import gradio as gr"
      ],
      "metadata": {
        "id": "JuyuXUzsRS2J"
      },
      "execution_count": 3,
      "outputs": []
    },
    {
      "cell_type": "code",
      "source": [
        "# Google Sheets\n",
        "SHEET_URL = \"https://docs.google.com/spreadsheets/d/1HA1cvniLmO1O362GtHlrLEK3TQ8_XQJBULMpbaU-29s/edit?usp=sharing\"\n",
        "\n",
        "gc = None\n",
        "try:\n",
        "    auth.authenticate_user()\n",
        "    creds, _ = default()\n",
        "    gc = gspread.authorize(creds)\n",
        "    print(\"✅ Google Sheets 認證成功。\")\n",
        "except Exception as e:\n",
        "    print(f\"❌ Google Sheets 認證失敗: {e}\")"
      ],
      "metadata": {
        "colab": {
          "base_uri": "https://localhost:8080/"
        },
        "id": "LqB5sPaRadCr",
        "outputId": "db657c69-3426-4f75-91b0-7bb5b32674ee"
      },
      "execution_count": 15,
      "outputs": [
        {
          "output_type": "stream",
          "name": "stdout",
          "text": [
            "✅ Google Sheets 認證成功。\n"
          ]
        }
      ]
    },
    {
      "cell_type": "code",
      "source": [
        "# Gemini API 認證 (使用 Colab Secrets)\n",
        "model = None\n",
        "try:\n",
        "    api_key = userdata.get('GEMINI_API_KEY')\n",
        "    if not api_key:\n",
        "        raise ValueError(\"在 Colab Secrets 中找不到 'GEMINI_API_KEY'。\")\n",
        "    genai.configure(api_key=api_key)\n",
        "    model = genai.GenerativeModel('gemini-2.5-flash')\n",
        "    print(\"✅ Gemini API 已成功設定。\")\n",
        "\n",
        "    # 執行一個簡單的測試來確認 API 是否正常運作\n",
        "    response = model.generate_content('Hi')\n",
        "    if response.text:\n",
        "      print(\"👍 Gemini API 測試連線成功。\")\n",
        "\n",
        "except Exception as e:\n",
        "    print(f\"❌ Gemini API 設定或測試失敗: {e}\")"
      ],
      "metadata": {
        "colab": {
          "base_uri": "https://localhost:8080/",
          "height": 52
        },
        "id": "QR3NM-JAbBNL",
        "outputId": "d18810dc-8b86-4e22-9ed8-33f0891d79e0"
      },
      "execution_count": 16,
      "outputs": [
        {
          "output_type": "stream",
          "name": "stdout",
          "text": [
            "✅ Gemini API 已成功設定。\n",
            "👍 Gemini API 測試連線成功。\n"
          ]
        }
      ]
    },
    {
      "cell_type": "code",
      "source": [
        "# 功能函式\n",
        "# Cell 3: 定義核心功能函式\n",
        "\n",
        "def add_record(student_id, name, hw1, hw2, hw3, q1, q2, final, open_response):\n",
        "    \"\"\"將一筆新的學生紀錄新增到 Google Sheet\"\"\"\n",
        "    if not gc:\n",
        "        return \"錯誤：Google Sheets 未認證。\"\n",
        "    try:\n",
        "        spreadsheet = gc.open_by_url(SHEET_URL)\n",
        "        worksheet = spreadsheet.sheet1\n",
        "\n",
        "        # 準備要新增的資料列\n",
        "        new_row = [student_id, name, hw1, hw2, hw3, q1, q2, final, open_response]\n",
        "        worksheet.append_row(new_row)\n",
        "\n",
        "        print(f\"成功新增紀錄：{new_row}\")\n",
        "        return f\"✅ 成功新增學號 {student_id} 的紀錄！\"\n",
        "    except Exception as e:\n",
        "        print(f\"新增紀錄時發生錯誤: {e}\")\n",
        "        return f\"❌ 新增紀錄失敗: {e}\"\n",
        "\n",
        "def get_class_analysis():\n",
        "    \"\"\"讀取所有學生的資料，並產生全班的 AI 分析報告\"\"\"\n",
        "    if not gc or not model:\n",
        "        return \"錯誤：認證未完成，無法產生報告。\", None\n",
        "\n",
        "    try:\n",
        "        # 讀取資料\n",
        "        spreadsheet = gc.open_by_url(SHEET_URL)\n",
        "        worksheet = spreadsheet.sheet1\n",
        "        data = worksheet.get_all_records()\n",
        "        if not data:\n",
        "            return \"報告：工作表中沒有資料可供分析。\", pd.DataFrame()\n",
        "\n",
        "        df = pd.DataFrame(data)\n",
        "\n",
        "        # --- AI 全班分析 ---\n",
        "        prompt = f\"\"\"\n",
        "        你是一位專業的程式設計課程助教。請根據整個班級的成績資料，提供一份總結報告。\n",
        "\n",
        "        全班成績資料：\n",
        "        {df.to_string()}\n",
        "\n",
        "        請依據以下結構產出報告：\n",
        "        1.  **整體表現摘要**：總結全班的平均表現、分數分布情況（例如：整體表現平均、但高低分差距大）。指出哪些評量項目（作業、小測、期末）對學生來說挑戰較大。\n",
        "        2.  **常見學習迷思整理**：根據「開放式作答」欄位的內容，以及學生在各項作業/小測成績的普遍表現，推測學生可能存在的 2-3 個常見學習迷思或困難點。\n",
        "        3.  **給老師的教學建議**：基於上述分析，提供 1-2 點具體的教學調整建議，例如：可以多加強哪個單元的說明，或是在課堂上多帶一些練習。\n",
        "\n",
        "        \"\"\"\n",
        "\n",
        "        print(\"正在為全班產生 AI 分析報告...\")\n",
        "        response = model.generate_content(prompt)\n",
        "        ai_report = response.text\n",
        "        print(\"✅ 全班分析報告已產生。\")\n",
        "\n",
        "        # 同時回傳報告和完整的 DataFrame\n",
        "        return ai_report, df\n",
        "\n",
        "    except Exception as e:\n",
        "        print(f\"產生分析報告時發生錯誤: {e}\")\n",
        "        return f\"❌ 產生報告失敗: {e}\", None\n",
        "\n",
        "print(\"✅ 核心功能函式已成功定義。\")"
      ],
      "metadata": {
        "colab": {
          "base_uri": "https://localhost:8080/"
        },
        "id": "Bd3nkmUubbjE",
        "outputId": "52158867-f20f-49e8-da0c-39d40ab3bb72"
      },
      "execution_count": 19,
      "outputs": [
        {
          "output_type": "stream",
          "name": "stdout",
          "text": [
            "✅ 核心功能函式已成功定義。\n"
          ]
        }
      ]
    },
    {
      "cell_type": "code",
      "source": [
        "# Gradio 建立\n",
        "\n",
        "with gr.Blocks(theme=gr.themes.Soft()) as demo:\n",
        "    gr.Markdown(\"# 👨‍🏫 AI 教學助理與成績分析平台\")\n",
        "\n",
        "    # 使用 Tab 元件來區分不同功能\n",
        "    with gr.Tabs():\n",
        "        # 第一個分頁：新增學生資料\n",
        "        with gr.TabItem(\"✍️ 新增學生資料\"):\n",
        "            gr.Markdown(\"請在下方欄位輸入單筆學生資料，然後點擊按鈕新增至 Google Sheet。\")\n",
        "            with gr.Row():\n",
        "                student_id = gr.Textbox(label=\"學號\")\n",
        "                name = gr.Textbox(label=\"姓名\")\n",
        "            with gr.Row():\n",
        "                hw1 = gr.Number(label=\"作業1\", value=0)\n",
        "                hw2 = gr.Number(label=\"作業2\", value=0)\n",
        "                hw3 = gr.Number(label=\"作業3\", value=0)\n",
        "            with gr.Row():\n",
        "                q1 = gr.Number(label=\"小測1\", value=0)\n",
        "                q2 = gr.Number(label=\"小測2\", value=0)\n",
        "                final = gr.Number(label=\"期末\", value=0)\n",
        "            open_response = gr.Textbox(label=\"開放式作答\", lines=3)\n",
        "\n",
        "            add_button = gr.Button(\"新增紀錄\", variant=\"primary\")\n",
        "            add_status = gr.Markdown() # 用於顯示新增成功或失敗的訊息\n",
        "\n",
        "            add_button.click(\n",
        "                fn=add_record,\n",
        "                inputs=[student_id, name, hw1, hw2, hw3, q1, q2, final, open_response],\n",
        "                outputs=add_status\n",
        "            )\n",
        "\n",
        "        # 第二個分頁：全班成績分析\n",
        "        with gr.TabItem(\"📊 全班成績分析\"):\n",
        "            gr.Markdown(\"點擊按鈕以讀取 Google Sheet 中的所有資料，並產生全班的 AI 分析報告。\")\n",
        "            analyze_button = gr.Button(\"讀取資料並產生分析報告\", variant=\"primary\")\n",
        "\n",
        "            gr.Markdown(\"### 📜 全班成績總覽\")\n",
        "            class_dataframe = gr.DataFrame(label=\"所有學生資料\")\n",
        "\n",
        "            gr.Markdown(\"### 🤖 AI 總結報告\")\n",
        "            class_report = gr.Markdown(label=\"AI 分析與教學建議\")\n",
        "\n",
        "            analyze_button.click(\n",
        "                fn=get_class_analysis,\n",
        "                inputs=[],\n",
        "                outputs=[class_report, class_dataframe]\n",
        "            )\n",
        "\n",
        "print(\"Gradio 介面準備啟動...\")\n",
        "demo.launch(debug=True)"
      ],
      "metadata": {
        "colab": {
          "base_uri": "https://localhost:8080/",
          "height": 732
        },
        "id": "J_mS8uaUb1Pa",
        "outputId": "197dd1b2-91b3-4cef-b873-dd8495364645"
      },
      "execution_count": 20,
      "outputs": [
        {
          "output_type": "stream",
          "name": "stdout",
          "text": [
            "Gradio 介面準備啟動...\n",
            "It looks like you are running Gradio on a hosted Jupyter notebook, which requires `share=True`. Automatically setting `share=True` (you can turn this off by setting `share=False` in `launch()` explicitly).\n",
            "\n",
            "Colab notebook detected. This cell will run indefinitely so that you can see errors and logs. To turn off, set debug=False in launch().\n",
            "* Running on public URL: https://be45c605642930512a.gradio.live\n",
            "\n",
            "This share link expires in 1 week. For free permanent hosting and GPU upgrades, run `gradio deploy` from the terminal in the working directory to deploy to Hugging Face Spaces (https://huggingface.co/spaces)\n"
          ]
        },
        {
          "output_type": "display_data",
          "data": {
            "text/plain": [
              "<IPython.core.display.HTML object>"
            ],
            "text/html": [
              "<div><iframe src=\"https://be45c605642930512a.gradio.live\" width=\"100%\" height=\"500\" allow=\"autoplay; camera; microphone; clipboard-read; clipboard-write;\" frameborder=\"0\" allowfullscreen></iframe></div>"
            ]
          },
          "metadata": {}
        },
        {
          "output_type": "stream",
          "name": "stdout",
          "text": [
            "正在為全班產生 AI 分析報告...\n",
            "✅ 全班分析報告已產生。\n",
            "Keyboard interruption in main thread... closing server.\n",
            "Killing tunnel 127.0.0.1:7860 <> https://be45c605642930512a.gradio.live\n"
          ]
        },
        {
          "output_type": "execute_result",
          "data": {
            "text/plain": []
          },
          "metadata": {},
          "execution_count": 20
        }
      ]
    },
    {
      "cell_type": "code",
      "source": [],
      "metadata": {
        "id": "Y0wY57K6b2Cz"
      },
      "execution_count": null,
      "outputs": []
    }
  ]
}