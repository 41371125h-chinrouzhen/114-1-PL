{
  "nbformat": 4,
  "nbformat_minor": 0,
  "metadata": {
    "colab": {
      "provenance": [],
      "authorship_tag": "ABX9TyM3xHzCaJcv5JRDF5M6uYyf",
      "include_colab_link": true
    },
    "kernelspec": {
      "name": "python3",
      "display_name": "Python 3"
    },
    "language_info": {
      "name": "python"
    }
  },
  "cells": [
    {
      "cell_type": "markdown",
      "metadata": {
        "id": "view-in-github",
        "colab_type": "text"
      },
      "source": [
        "<a href=\"https://colab.research.google.com/github/41371125h-chinrouzhen/114-1-PL/blob/main/HW4_Github%E6%8A%80%E8%A1%93%E8%B6%A8%E5%8B%A2%E7%88%AC%E8%9F%B2%2BAI%E6%96%87%E5%AD%97%E5%88%86%E6%9E%90.ipynb\" target=\"_parent\"><img src=\"https://colab.research.google.com/assets/colab-badge.svg\" alt=\"Open In Colab\"/></a>"
      ]
    },
    {
      "cell_type": "markdown",
      "source": [
        "## **Github技術趨勢爬蟲+AI文字分析（作業四）**\n",
        "目標：呼叫 API → 做詞數與關鍵字計數 → 爬蟲結果寫入 → 輸出前 N 熱詞 → 回寫統計表。\n",
        "\n",
        "AI ：使用者可以從 Top 5 熱詞中任選一個，AI產出 5 句洞察摘要 + 一段 120 字結論。\n",
        "\n",
        "補充：\n",
        "選擇GitHub作爲資料庫是最初想在104 或 Dcard 等網站存在嚴重反爬機制，Gemini便建議我直接選擇GitHub，因爲它有公開且穩定的API。\n"
      ],
      "metadata": {
        "id": "xl9KKX6DeRHp"
      }
    },
    {
      "cell_type": "code",
      "source": [
        "# 安裝\n",
        "!pip install --upgrade google-generativeai\n",
        "!pip install pygsheets gspread google-auth-oauthlib beautifulsoup4 jieba scikit-learn gradio pandas oauth2client lxml\n",
        "print(\"安裝成功\")"
      ],
      "metadata": {
        "colab": {
          "base_uri": "https://localhost:8080/"
        },
        "id": "pTZWzAlNQV37",
        "outputId": "f6b40bb6-0adb-4db9-bbcb-c8f35e364b94"
      },
      "execution_count": 34,
      "outputs": [
        {
          "output_type": "stream",
          "name": "stdout",
          "text": [
            "Requirement already satisfied: google-generativeai in /usr/local/lib/python3.12/dist-packages (0.8.5)\n",
            "Requirement already satisfied: google-ai-generativelanguage==0.6.15 in /usr/local/lib/python3.12/dist-packages (from google-generativeai) (0.6.15)\n",
            "Requirement already satisfied: google-api-core in /usr/local/lib/python3.12/dist-packages (from google-generativeai) (2.26.0)\n",
            "Requirement already satisfied: google-api-python-client in /usr/local/lib/python3.12/dist-packages (from google-generativeai) (2.184.0)\n",
            "Requirement already satisfied: google-auth>=2.15.0 in /usr/local/lib/python3.12/dist-packages (from google-generativeai) (2.41.1)\n",
            "Requirement already satisfied: protobuf in /usr/local/lib/python3.12/dist-packages (from google-generativeai) (5.29.5)\n",
            "Requirement already satisfied: pydantic in /usr/local/lib/python3.12/dist-packages (from google-generativeai) (2.11.10)\n",
            "Requirement already satisfied: tqdm in /usr/local/lib/python3.12/dist-packages (from google-generativeai) (4.67.1)\n",
            "Requirement already satisfied: typing-extensions in /usr/local/lib/python3.12/dist-packages (from google-generativeai) (4.15.0)\n",
            "Requirement already satisfied: proto-plus<2.0.0dev,>=1.22.3 in /usr/local/lib/python3.12/dist-packages (from google-ai-generativelanguage==0.6.15->google-generativeai) (1.26.1)\n",
            "Requirement already satisfied: googleapis-common-protos<2.0.0,>=1.56.2 in /usr/local/lib/python3.12/dist-packages (from google-api-core->google-generativeai) (1.70.0)\n",
            "Requirement already satisfied: requests<3.0.0,>=2.18.0 in /usr/local/lib/python3.12/dist-packages (from google-api-core->google-generativeai) (2.32.5)\n",
            "Requirement already satisfied: cachetools<7.0,>=2.0.0 in /usr/local/lib/python3.12/dist-packages (from google-auth>=2.15.0->google-generativeai) (6.2.1)\n",
            "Requirement already satisfied: pyasn1-modules>=0.2.1 in /usr/local/lib/python3.12/dist-packages (from google-auth>=2.15.0->google-generativeai) (0.4.2)\n",
            "Requirement already satisfied: rsa<5,>=3.1.4 in /usr/local/lib/python3.12/dist-packages (from google-auth>=2.15.0->google-generativeai) (4.9.1)\n",
            "Requirement already satisfied: httplib2<1.0.0,>=0.19.0 in /usr/local/lib/python3.12/dist-packages (from google-api-python-client->google-generativeai) (0.31.0)\n",
            "Requirement already satisfied: google-auth-httplib2<1.0.0,>=0.2.0 in /usr/local/lib/python3.12/dist-packages (from google-api-python-client->google-generativeai) (0.2.0)\n",
            "Requirement already satisfied: uritemplate<5,>=3.0.1 in /usr/local/lib/python3.12/dist-packages (from google-api-python-client->google-generativeai) (4.2.0)\n",
            "Requirement already satisfied: annotated-types>=0.6.0 in /usr/local/lib/python3.12/dist-packages (from pydantic->google-generativeai) (0.7.0)\n",
            "Requirement already satisfied: pydantic-core==2.33.2 in /usr/local/lib/python3.12/dist-packages (from pydantic->google-generativeai) (2.33.2)\n",
            "Requirement already satisfied: typing-inspection>=0.4.0 in /usr/local/lib/python3.12/dist-packages (from pydantic->google-generativeai) (0.4.2)\n",
            "Requirement already satisfied: grpcio<2.0.0,>=1.33.2 in /usr/local/lib/python3.12/dist-packages (from google-api-core[grpc]!=2.0.*,!=2.1.*,!=2.10.*,!=2.2.*,!=2.3.*,!=2.4.*,!=2.5.*,!=2.6.*,!=2.7.*,!=2.8.*,!=2.9.*,<3.0.0dev,>=1.34.1->google-ai-generativelanguage==0.6.15->google-generativeai) (1.75.1)\n",
            "Requirement already satisfied: grpcio-status<2.0.0,>=1.33.2 in /usr/local/lib/python3.12/dist-packages (from google-api-core[grpc]!=2.0.*,!=2.1.*,!=2.10.*,!=2.2.*,!=2.3.*,!=2.4.*,!=2.5.*,!=2.6.*,!=2.7.*,!=2.8.*,!=2.9.*,<3.0.0dev,>=1.34.1->google-ai-generativelanguage==0.6.15->google-generativeai) (1.71.2)\n",
            "Requirement already satisfied: pyparsing<4,>=3.0.4 in /usr/local/lib/python3.12/dist-packages (from httplib2<1.0.0,>=0.19.0->google-api-python-client->google-generativeai) (3.2.5)\n",
            "Requirement already satisfied: pyasn1<0.7.0,>=0.6.1 in /usr/local/lib/python3.12/dist-packages (from pyasn1-modules>=0.2.1->google-auth>=2.15.0->google-generativeai) (0.6.1)\n",
            "Requirement already satisfied: charset_normalizer<4,>=2 in /usr/local/lib/python3.12/dist-packages (from requests<3.0.0,>=2.18.0->google-api-core->google-generativeai) (3.4.4)\n",
            "Requirement already satisfied: idna<4,>=2.5 in /usr/local/lib/python3.12/dist-packages (from requests<3.0.0,>=2.18.0->google-api-core->google-generativeai) (3.11)\n",
            "Requirement already satisfied: urllib3<3,>=1.21.1 in /usr/local/lib/python3.12/dist-packages (from requests<3.0.0,>=2.18.0->google-api-core->google-generativeai) (2.5.0)\n",
            "Requirement already satisfied: certifi>=2017.4.17 in /usr/local/lib/python3.12/dist-packages (from requests<3.0.0,>=2.18.0->google-api-core->google-generativeai) (2025.10.5)\n",
            "Requirement already satisfied: pygsheets in /usr/local/lib/python3.12/dist-packages (2.0.6)\n",
            "Requirement already satisfied: gspread in /usr/local/lib/python3.12/dist-packages (6.2.1)\n",
            "Requirement already satisfied: google-auth-oauthlib in /usr/local/lib/python3.12/dist-packages (1.2.2)\n",
            "Requirement already satisfied: beautifulsoup4 in /usr/local/lib/python3.12/dist-packages (4.13.5)\n",
            "Requirement already satisfied: jieba in /usr/local/lib/python3.12/dist-packages (0.42.1)\n",
            "Requirement already satisfied: scikit-learn in /usr/local/lib/python3.12/dist-packages (1.6.1)\n",
            "Requirement already satisfied: gradio in /usr/local/lib/python3.12/dist-packages (5.49.1)\n",
            "Requirement already satisfied: pandas in /usr/local/lib/python3.12/dist-packages (2.2.2)\n",
            "Requirement already satisfied: oauth2client in /usr/local/lib/python3.12/dist-packages (4.1.3)\n",
            "Requirement already satisfied: lxml in /usr/local/lib/python3.12/dist-packages (5.4.0)\n",
            "Requirement already satisfied: google-api-python-client>=2.50.0 in /usr/local/lib/python3.12/dist-packages (from pygsheets) (2.184.0)\n",
            "Requirement already satisfied: google-auth>=1.12.0 in /usr/local/lib/python3.12/dist-packages (from gspread) (2.41.1)\n",
            "Requirement already satisfied: requests-oauthlib>=0.7.0 in /usr/local/lib/python3.12/dist-packages (from google-auth-oauthlib) (2.0.0)\n",
            "Requirement already satisfied: soupsieve>1.2 in /usr/local/lib/python3.12/dist-packages (from beautifulsoup4) (2.8)\n",
            "Requirement already satisfied: typing-extensions>=4.0.0 in /usr/local/lib/python3.12/dist-packages (from beautifulsoup4) (4.15.0)\n",
            "Requirement already satisfied: numpy>=1.19.5 in /usr/local/lib/python3.12/dist-packages (from scikit-learn) (2.0.2)\n",
            "Requirement already satisfied: scipy>=1.6.0 in /usr/local/lib/python3.12/dist-packages (from scikit-learn) (1.16.2)\n",
            "Requirement already satisfied: joblib>=1.2.0 in /usr/local/lib/python3.12/dist-packages (from scikit-learn) (1.5.2)\n",
            "Requirement already satisfied: threadpoolctl>=3.1.0 in /usr/local/lib/python3.12/dist-packages (from scikit-learn) (3.6.0)\n",
            "Requirement already satisfied: aiofiles<25.0,>=22.0 in /usr/local/lib/python3.12/dist-packages (from gradio) (24.1.0)\n",
            "Requirement already satisfied: anyio<5.0,>=3.0 in /usr/local/lib/python3.12/dist-packages (from gradio) (4.11.0)\n",
            "Requirement already satisfied: brotli>=1.1.0 in /usr/local/lib/python3.12/dist-packages (from gradio) (1.1.0)\n",
            "Requirement already satisfied: fastapi<1.0,>=0.115.2 in /usr/local/lib/python3.12/dist-packages (from gradio) (0.119.0)\n",
            "Requirement already satisfied: ffmpy in /usr/local/lib/python3.12/dist-packages (from gradio) (0.6.3)\n",
            "Requirement already satisfied: gradio-client==1.13.3 in /usr/local/lib/python3.12/dist-packages (from gradio) (1.13.3)\n",
            "Requirement already satisfied: groovy~=0.1 in /usr/local/lib/python3.12/dist-packages (from gradio) (0.1.2)\n",
            "Requirement already satisfied: httpx<1.0,>=0.24.1 in /usr/local/lib/python3.12/dist-packages (from gradio) (0.28.1)\n",
            "Requirement already satisfied: huggingface-hub<2.0,>=0.33.5 in /usr/local/lib/python3.12/dist-packages (from gradio) (0.35.3)\n",
            "Requirement already satisfied: jinja2<4.0 in /usr/local/lib/python3.12/dist-packages (from gradio) (3.1.6)\n",
            "Requirement already satisfied: markupsafe<4.0,>=2.0 in /usr/local/lib/python3.12/dist-packages (from gradio) (3.0.3)\n",
            "Requirement already satisfied: orjson~=3.0 in /usr/local/lib/python3.12/dist-packages (from gradio) (3.11.3)\n",
            "Requirement already satisfied: packaging in /usr/local/lib/python3.12/dist-packages (from gradio) (25.0)\n",
            "Requirement already satisfied: pillow<12.0,>=8.0 in /usr/local/lib/python3.12/dist-packages (from gradio) (11.3.0)\n",
            "Requirement already satisfied: pydantic<2.12,>=2.0 in /usr/local/lib/python3.12/dist-packages (from gradio) (2.11.10)\n",
            "Requirement already satisfied: pydub in /usr/local/lib/python3.12/dist-packages (from gradio) (0.25.1)\n",
            "Requirement already satisfied: python-multipart>=0.0.18 in /usr/local/lib/python3.12/dist-packages (from gradio) (0.0.20)\n",
            "Requirement already satisfied: pyyaml<7.0,>=5.0 in /usr/local/lib/python3.12/dist-packages (from gradio) (6.0.3)\n",
            "Requirement already satisfied: ruff>=0.9.3 in /usr/local/lib/python3.12/dist-packages (from gradio) (0.14.0)\n",
            "Requirement already satisfied: safehttpx<0.2.0,>=0.1.6 in /usr/local/lib/python3.12/dist-packages (from gradio) (0.1.6)\n",
            "Requirement already satisfied: semantic-version~=2.0 in /usr/local/lib/python3.12/dist-packages (from gradio) (2.10.0)\n",
            "Requirement already satisfied: starlette<1.0,>=0.40.0 in /usr/local/lib/python3.12/dist-packages (from gradio) (0.48.0)\n",
            "Requirement already satisfied: tomlkit<0.14.0,>=0.12.0 in /usr/local/lib/python3.12/dist-packages (from gradio) (0.13.3)\n",
            "Requirement already satisfied: typer<1.0,>=0.12 in /usr/local/lib/python3.12/dist-packages (from gradio) (0.19.2)\n",
            "Requirement already satisfied: uvicorn>=0.14.0 in /usr/local/lib/python3.12/dist-packages (from gradio) (0.37.0)\n",
            "Requirement already satisfied: fsspec in /usr/local/lib/python3.12/dist-packages (from gradio-client==1.13.3->gradio) (2025.3.0)\n",
            "Requirement already satisfied: websockets<16.0,>=13.0 in /usr/local/lib/python3.12/dist-packages (from gradio-client==1.13.3->gradio) (15.0.1)\n",
            "Requirement already satisfied: python-dateutil>=2.8.2 in /usr/local/lib/python3.12/dist-packages (from pandas) (2.9.0.post0)\n",
            "Requirement already satisfied: pytz>=2020.1 in /usr/local/lib/python3.12/dist-packages (from pandas) (2025.2)\n",
            "Requirement already satisfied: tzdata>=2022.7 in /usr/local/lib/python3.12/dist-packages (from pandas) (2025.2)\n",
            "Requirement already satisfied: httplib2>=0.9.1 in /usr/local/lib/python3.12/dist-packages (from oauth2client) (0.31.0)\n",
            "Requirement already satisfied: pyasn1>=0.1.7 in /usr/local/lib/python3.12/dist-packages (from oauth2client) (0.6.1)\n",
            "Requirement already satisfied: pyasn1-modules>=0.0.5 in /usr/local/lib/python3.12/dist-packages (from oauth2client) (0.4.2)\n",
            "Requirement already satisfied: rsa>=3.1.4 in /usr/local/lib/python3.12/dist-packages (from oauth2client) (4.9.1)\n",
            "Requirement already satisfied: six>=1.6.1 in /usr/local/lib/python3.12/dist-packages (from oauth2client) (1.17.0)\n",
            "Requirement already satisfied: idna>=2.8 in /usr/local/lib/python3.12/dist-packages (from anyio<5.0,>=3.0->gradio) (3.11)\n",
            "Requirement already satisfied: sniffio>=1.1 in /usr/local/lib/python3.12/dist-packages (from anyio<5.0,>=3.0->gradio) (1.3.1)\n",
            "Requirement already satisfied: google-auth-httplib2<1.0.0,>=0.2.0 in /usr/local/lib/python3.12/dist-packages (from google-api-python-client>=2.50.0->pygsheets) (0.2.0)\n",
            "Requirement already satisfied: google-api-core!=2.0.*,!=2.1.*,!=2.2.*,!=2.3.0,<3.0.0,>=1.31.5 in /usr/local/lib/python3.12/dist-packages (from google-api-python-client>=2.50.0->pygsheets) (2.26.0)\n",
            "Requirement already satisfied: uritemplate<5,>=3.0.1 in /usr/local/lib/python3.12/dist-packages (from google-api-python-client>=2.50.0->pygsheets) (4.2.0)\n",
            "Requirement already satisfied: cachetools<7.0,>=2.0.0 in /usr/local/lib/python3.12/dist-packages (from google-auth>=1.12.0->gspread) (6.2.1)\n",
            "Requirement already satisfied: pyparsing<4,>=3.0.4 in /usr/local/lib/python3.12/dist-packages (from httplib2>=0.9.1->oauth2client) (3.2.5)\n",
            "Requirement already satisfied: certifi in /usr/local/lib/python3.12/dist-packages (from httpx<1.0,>=0.24.1->gradio) (2025.10.5)\n",
            "Requirement already satisfied: httpcore==1.* in /usr/local/lib/python3.12/dist-packages (from httpx<1.0,>=0.24.1->gradio) (1.0.9)\n",
            "Requirement already satisfied: h11>=0.16 in /usr/local/lib/python3.12/dist-packages (from httpcore==1.*->httpx<1.0,>=0.24.1->gradio) (0.16.0)\n",
            "Requirement already satisfied: filelock in /usr/local/lib/python3.12/dist-packages (from huggingface-hub<2.0,>=0.33.5->gradio) (3.20.0)\n",
            "Requirement already satisfied: requests in /usr/local/lib/python3.12/dist-packages (from huggingface-hub<2.0,>=0.33.5->gradio) (2.32.5)\n",
            "Requirement already satisfied: tqdm>=4.42.1 in /usr/local/lib/python3.12/dist-packages (from huggingface-hub<2.0,>=0.33.5->gradio) (4.67.1)\n",
            "Requirement already satisfied: hf-xet<2.0.0,>=1.1.3 in /usr/local/lib/python3.12/dist-packages (from huggingface-hub<2.0,>=0.33.5->gradio) (1.1.10)\n",
            "Requirement already satisfied: annotated-types>=0.6.0 in /usr/local/lib/python3.12/dist-packages (from pydantic<2.12,>=2.0->gradio) (0.7.0)\n",
            "Requirement already satisfied: pydantic-core==2.33.2 in /usr/local/lib/python3.12/dist-packages (from pydantic<2.12,>=2.0->gradio) (2.33.2)\n",
            "Requirement already satisfied: typing-inspection>=0.4.0 in /usr/local/lib/python3.12/dist-packages (from pydantic<2.12,>=2.0->gradio) (0.4.2)\n",
            "Requirement already satisfied: oauthlib>=3.0.0 in /usr/local/lib/python3.12/dist-packages (from requests-oauthlib>=0.7.0->google-auth-oauthlib) (3.3.1)\n",
            "Requirement already satisfied: click>=8.0.0 in /usr/local/lib/python3.12/dist-packages (from typer<1.0,>=0.12->gradio) (8.3.0)\n",
            "Requirement already satisfied: shellingham>=1.3.0 in /usr/local/lib/python3.12/dist-packages (from typer<1.0,>=0.12->gradio) (1.5.4)\n",
            "Requirement already satisfied: rich>=10.11.0 in /usr/local/lib/python3.12/dist-packages (from typer<1.0,>=0.12->gradio) (13.9.4)\n",
            "Requirement already satisfied: googleapis-common-protos<2.0.0,>=1.56.2 in /usr/local/lib/python3.12/dist-packages (from google-api-core!=2.0.*,!=2.1.*,!=2.2.*,!=2.3.0,<3.0.0,>=1.31.5->google-api-python-client>=2.50.0->pygsheets) (1.70.0)\n",
            "Requirement already satisfied: protobuf!=3.20.0,!=3.20.1,!=4.21.0,!=4.21.1,!=4.21.2,!=4.21.3,!=4.21.4,!=4.21.5,<7.0.0,>=3.19.5 in /usr/local/lib/python3.12/dist-packages (from google-api-core!=2.0.*,!=2.1.*,!=2.2.*,!=2.3.0,<3.0.0,>=1.31.5->google-api-python-client>=2.50.0->pygsheets) (5.29.5)\n",
            "Requirement already satisfied: proto-plus<2.0.0,>=1.22.3 in /usr/local/lib/python3.12/dist-packages (from google-api-core!=2.0.*,!=2.1.*,!=2.2.*,!=2.3.0,<3.0.0,>=1.31.5->google-api-python-client>=2.50.0->pygsheets) (1.26.1)\n",
            "Requirement already satisfied: charset_normalizer<4,>=2 in /usr/local/lib/python3.12/dist-packages (from requests->huggingface-hub<2.0,>=0.33.5->gradio) (3.4.4)\n",
            "Requirement already satisfied: urllib3<3,>=1.21.1 in /usr/local/lib/python3.12/dist-packages (from requests->huggingface-hub<2.0,>=0.33.5->gradio) (2.5.0)\n",
            "Requirement already satisfied: markdown-it-py>=2.2.0 in /usr/local/lib/python3.12/dist-packages (from rich>=10.11.0->typer<1.0,>=0.12->gradio) (4.0.0)\n",
            "Requirement already satisfied: pygments<3.0.0,>=2.13.0 in /usr/local/lib/python3.12/dist-packages (from rich>=10.11.0->typer<1.0,>=0.12->gradio) (2.19.2)\n",
            "Requirement already satisfied: mdurl~=0.1 in /usr/local/lib/python3.12/dist-packages (from markdown-it-py>=2.2.0->rich>=10.11.0->typer<1.0,>=0.12->gradio) (0.1.2)\n"
          ]
        }
      ]
    },
    {
      "cell_type": "code",
      "source": [
        "import pygsheets\n",
        "from google.colab import files\n",
        "import google.auth\n",
        "import requests\n",
        "import jieba\n",
        "from sklearn.feature_extraction.text import TfidfVectorizer\n",
        "import pandas as pd\n",
        "import google.generativeai as genai\n",
        "import gradio as gr\n",
        "import re\n",
        "import json\n",
        "from datetime import datetime\n",
        "import os\n",
        "\n",
        "JSON_KEY_FILE_PATH = \"/content/gen-lang-client-0156076368-e711a064f70d.json\"\n",
        "\n",
        "try:\n",
        "    if not os.path.exists(JSON_KEY_FILE_PATH):\n",
        "        raise FileNotFoundError(\"找不到指定的 JSON 檔案。\")\n",
        "\n",
        "    gc = pygsheets.authorize(service_account_file=JSON_KEY_FILE_PATH) # <<< 修正：pygsheets 授權\n",
        "\n",
        "except FileNotFoundError:\n",
        "    print(f\"'{JSON_KEY_FILE_PATH}'找不到檔案。\")\n",
        "except Exception as e:\n",
        "    print(f\"帳戶金鑰驗證失敗：{e}\")\n",
        "print(\"驗證成功\")"
      ],
      "metadata": {
        "colab": {
          "base_uri": "https://localhost:8080/"
        },
        "id": "GckVNOlIQWkd",
        "outputId": "dcfd5686-8abb-4141-8790-0e7566292bd6"
      },
      "execution_count": 38,
      "outputs": [
        {
          "output_type": "stream",
          "name": "stdout",
          "text": [
            "驗證成功\n"
          ]
        }
      ]
    },
    {
      "cell_type": "code",
      "source": [
        "GOOGLE_SHEET_NAME = \"爬蟲資料\"\n",
        "\n",
        "from google.colab import userdata\n",
        "try:\n",
        "    GEMINI_API_KEY = userdata.get('GEMINI_API_KEY')\n",
        "    GITHUB_TOKEN = userdata.get('GITHUB_TOKEN')\n",
        "\n",
        "except userdata.SecretNotFoundError as e:\n",
        "    print(f\"找不到密鑰 '{e.name}'。\")\n",
        "    raise e\n",
        "\n",
        "try:\n",
        "    genai.configure(api_key=GEMINI_API_KEY)\n",
        "    model = genai.GenerativeModel('models/gemini-2.5-flash')\n",
        "except Exception as e:\n",
        "    print(f\"Gemini API 設定失敗：{e}\")\n",
        "\n",
        "GITHUB_HEADERS = {\n",
        "    'Authorization': f'token {GITHUB_TOKEN}',\n",
        "    'Accept': 'application/vnd.github.v3+json'\n",
        "}"
      ],
      "metadata": {
        "id": "esymqvVVQYhM"
      },
      "execution_count": 39,
      "outputs": []
    },
    {
      "cell_type": "code",
      "source": [
        "def scrape_github_bios(search_location=\"Taiwan\", num_users=50):\n",
        "    per_page = min(num_users, 100)\n",
        "    search_url = f\"https://api.github.com/search/users?q=location:{search_location}&per_page={per_page}\"\n",
        "    try:\n",
        "        response_search = requests.get(search_url, headers=GITHUB_HEADERS)\n",
        "        response_search.raise_for_status()\n",
        "        users = response_search.json().get('items', [])\n",
        "        if not users:\n",
        "            print(\"爬取失敗：找不到任何用戶。\")\n",
        "            return pd.DataFrame()\n",
        "        print(f\"成功搜尋到 {len(users)} 位用戶\")\n",
        "        data = []\n",
        "        for user in users[:num_users]:\n",
        "            user_url = user['url']\n",
        "            try:\n",
        "                response_user = requests.get(user_url, headers=GITHUB_HEADERS)\n",
        "                response_user.raise_for_status()\n",
        "                user_data = response_user.json()\n",
        "                bio = user_data.get('bio')\n",
        "                if bio and bio.strip():\n",
        "                    data.append({\n",
        "                        'username': user_data.get('login'),\n",
        "                        'name': user_data.get('name'),\n",
        "                        'bio': bio,\n",
        "                        'followers': user_data.get('followers'),\n",
        "                        'profile_url': user_data.get('html_url'),\n",
        "                        'location': user_data.get('location')\n",
        "                    })\n",
        "            except requests.exceptions.RequestException as e_user:\n",
        "                print(f\"抓取用戶 {user['login']} 失敗: {e_user}\")\n",
        "        print(f\"完成爬取(在 {len(users)} 人中，共有 {len(data)} 人填寫了有效的 Bio。)\")\n",
        "        return pd.DataFrame(data)\n",
        "    except requests.exceptions.RequestException as e_search:\n",
        "        if \"401\" in str(e_search):\n",
        "             print(f\"爬取失敗 (401 Unauthorized)：您的 GITHUB_TOKEN 可能是錯的或已過期。\")\n",
        "        else:\n",
        "            print(f\"爬取失敗：{e_search}\")\n",
        "        return pd.DataFrame()\n",
        "\n",
        "def write_to_sheet(worksheet_name, df_to_write):\n",
        "    try:\n",
        "        spreadsheet = gc.open(GOOGLE_SHEET_NAME)\n",
        "\n",
        "        try:\n",
        "            worksheet = spreadsheet.worksheet_by_title(worksheet_name)\n",
        "        except pygsheets.exceptions.WorksheetNotFound:\n",
        "            print(f\"工作表 '{worksheet_name}' 不存在，正在自動建立...\")\n",
        "            worksheet = spreadsheet.add_worksheet(worksheet_name)\n",
        "\n",
        "        worksheet.clear()\n",
        "        worksheet.set_dataframe(df_to_write, start='A1')\n",
        "\n",
        "        print(f\"資料寫入 Google Sheet '{worksheet_name}'！\")\n",
        "        return True\n",
        "\n",
        "    except Exception as e:\n",
        "        print(f\"寫入失敗: {e}\")\n",
        "        return False\n",
        "\n",
        "def read_from_sheet(worksheet_name, column_name):\n",
        "    try:\n",
        "        spreadsheet = gc.open(GOOGLE_SHEET_NAME)\n",
        "        worksheet = spreadsheet.worksheet_by_title(worksheet_name)\n",
        "\n",
        "        df = worksheet.get_as_df()\n",
        "        if column_name not in df.columns:\n",
        "            print(f\"錯誤：在 '{worksheet_name}' 中找不到名為 '{column_name}' 的欄位。\")\n",
        "            return []\n",
        "\n",
        "        texts = df[column_name].dropna().astype(str).tolist()\n",
        "        print(f\"成功讀取 {len(texts)} 筆資料。\")\n",
        "        return texts\n",
        "    except Exception as e:\n",
        "        print(f\"讀取錯誤: {e}\")\n",
        "        return []\n",
        "def analyze_tfidf_keywords(texts, top_n=5):\n",
        "    corpus = []\n",
        "    for text in texts:\n",
        "        clean_text = re.sub(r'[^\\u4e00-\\u9fa5a-zA-Z0-9\\+#\\.]', ' ', text)\n",
        "        corpus.append(clean_text)\n",
        "    if not corpus:\n",
        "        print(\"沒有可分析的有效文字。\")\n",
        "        return pd.DataFrame()\n",
        "    vectorizer = TfidfVectorizer(\n",
        "        stop_words='english',\n",
        "        token_pattern=r'[a-zA-Z0-9\\+#\\.]{2,}'\n",
        "    )\n",
        "    tfidf_matrix = vectorizer.fit_transform(corpus)\n",
        "    feature_names = vectorizer.get_feature_names_out()\n",
        "    scores = tfidf_matrix.sum(axis=0).A1\n",
        "    df_tfidf = pd.DataFrame({'Keyword': feature_names, 'TF_IDF_Score': scores})\n",
        "    df_tfidf_sorted = df_tfidf.sort_values(by='TF_IDF_Score', ascending=False)\n",
        "    df_tfidf_sorted['Keyword'] = df_tfidf_sorted['Keyword'].str.lower()\n",
        "    df_tfidf_grouped = df_tfidf_sorted.groupby('Keyword')['TF_IDF_Score'].sum().reset_index()\n",
        "    df_tfidf_final = df_tfidf_grouped.sort_values(by='TF_IDF_Score', ascending=False)\n",
        "    print(f\"✅ TF-IDF 分析完成。\")\n",
        "    return df_tfidf_final.head(top_n)\n",
        "\n",
        "def generate_insights_for_keyword(selected_keyword, all_keywords_list):\n",
        "    if not selected_keyword:\n",
        "        return \"請先選擇一個熱詞。\", \"\"\n",
        "\n",
        "    print(f\"🤖 正在呼叫 Gemini API，針對「{selected_keyword}」生成洞察...\")\n",
        "    keywords_str = \", \".join(all_keywords_list)\n",
        "    prompt = f\"\"\"\n",
        "    你是一位專業的科技業人力資源 (HR) 趨勢分析師。\n",
        "    我剛才分析了 GitHub 上地點在台灣 (Taiwan) 的開發者個人簡介 (Bio)，得出的 Top 5 技能熱詞是：{keywords_str}\n",
        "    請你**\"只針對「{selected_keyword}」這個詞\"**，深入分析它為何成為台灣開發者 Bio 中的 Top 5 熱詞之一，並產生一份精闢的 HR 分析報告。\n",
        "    請嚴格依照以下格式輸出，不要有任何多餘的文字或開場白：\n",
        "    ### 洞察摘要\n",
        "    1. [第一點洞察：解釋「{selected_keyword}」是什麼，為什麼它在技術圈這麼重要？]\n",
        "    2. [第二點洞察：分析開發者將「{selected_keyword}」寫入 Bio 的動機 (e.g., 求職、展現專業、跟隨趨勢)]\n",
        "    3. [第三點洞察：從 HR 角度分析，這代表台灣人才市場具備了哪些「{selected_keyword}」相關的技能儲備？]\n",
        "    4. [第四點洞察：分析這個詞與其他熱詞 (如 {keywords_str}) 之間可能的關聯性]\n",
        "    5. [第五點洞察：總結企業在招募時，應如何看待具備「{selected_keyword}」技能的候選人]\n",
        "    ### 結論\n",
        "    [一段約 120 字的總結，精準說明「{selected_keyword}」這個詞的熱門，反映了台灣技術人才庫的何種趨勢或價值觀。]\n",
        "    \"\"\"\n",
        "    try:\n",
        "        response = model.generate_content(prompt)\n",
        "        text_response = response.text.strip()\n",
        "        summary_part = text_response.split(\"### 洞察摘要\")[1].split(\"### 結論\")[0].strip()\n",
        "        conclusion_part = text_response.split(\"### 結論\")[1].strip()\n",
        "        print(\"✅ Gemini API 已成功生成內容。\")\n",
        "        return summary_part, conclusion_part\n",
        "    except Exception as e:\n",
        "        print(f\"❌ F_CALL 呼叫 Gemini API 失敗：{e}\")\n",
        "        return f\"Gemini API 呼叫失敗: {e}\", \"\""
      ],
      "metadata": {
        "id": "eDFpzn6YQaGn"
      },
      "execution_count": 41,
      "outputs": []
    },
    {
      "cell_type": "code",
      "source": [
        "scraped_df = scrape_github_bios(search_location=\"Taiwan\", num_users=50)\n",
        "\n",
        "if not scraped_df.empty:\n",
        "    write_to_sheet(\"GitHub_Scraped_Data\", scraped_df)\n",
        "\n",
        "    texts_to_analyze = read_from_sheet(\"GitHub_Scraped_Data\", \"bio\")\n",
        "\n",
        "    if texts_to_analyze:\n",
        "        keywords_df = analyze_tfidf_keywords(texts_to_analyze, top_n=5)\n",
        "\n",
        "        if not keywords_df.empty:\n",
        "            write_to_sheet(\"GitHub_Keyword_Stats\", keywords_df)\n",
        "            print(\"資料準備流程完成\")\n",
        "        else:\n",
        "            print(\"分析失敗：未能提取關鍵字。\")\n",
        "    else:\n",
        "        print(\"分析失敗：從 Sheet 讀取資料失敗。\")\n",
        "else:\n",
        "    print(\"流程終止：爬蟲未能抓取到任何資料。\")"
      ],
      "metadata": {
        "colab": {
          "base_uri": "https://localhost:8080/"
        },
        "id": "B5evILeaQstj",
        "outputId": "e853041b-5d11-4773-969b-79b0cf5e0e38"
      },
      "execution_count": 42,
      "outputs": [
        {
          "output_type": "stream",
          "name": "stdout",
          "text": [
            "成功搜尋到 50 位用戶\n",
            "完成爬取(在 50 人中，共有 42 人填寫了有效的 Bio。)\n",
            "資料寫入 Google Sheet 'GitHub_Scraped_Data'！\n",
            "成功讀取 42 筆資料。\n",
            "✅ TF-IDF 分析完成。\n",
            "資料寫入 Google Sheet 'GitHub_Keyword_Stats'！\n",
            "資料準備流程完成\n"
          ]
        }
      ]
    },
    {
      "cell_type": "code",
      "source": [
        "try:\n",
        "    top_5_keywords_list = read_from_sheet(\"GitHub_Keyword_Stats\", \"Keyword\")\n",
        "    if not top_5_keywords_list:\n",
        "        print(\"not top_5_keywords_list\")\n",
        "        top_5_keywords_list = [\"(請先執行資料流程)\"]\n",
        "except Exception as e:\n",
        "    print(f\"讀取熱詞失敗: {e}\")\n",
        "    top_5_keywords_list = [\"(讀取熱詞失敗)\"]\n",
        "\n",
        "def gradio_get_insights(selected_keyword):\n",
        "    if not selected_keyword or selected_keyword.startswith(\"(\"):\n",
        "        return \"請先選擇一個有效的熱詞。\", \"\"\n",
        "\n",
        "    summary, conclusion = generate_insights_for_keyword(selected_keyword, top_5_keywords_list)\n",
        "    return summary, conclusion\n",
        "\n",
        "with gr.Blocks(theme=gr.themes.Soft()) as demo:\n",
        "    gr.Markdown(\"# 🚀 GitHub 台灣人才趨勢 AI 洞察\")\n",
        "    gr.Markdown(f\"本系統已分析完 GitHub 台灣用戶 Bio，目前 Top 5 技能熱詞為：**{', '.join(top_5_keywords_list)}**\")\n",
        "\n",
        "    with gr.Row():\n",
        "        keyword_dropdown = gr.Dropdown(\n",
        "            label=\"請選擇一個技能熱詞進行深入分析\",\n",
        "            choices=top_5_keywords_list\n",
        "        )\n",
        "\n",
        "    run_button = gr.Button(\"🧠 生成 HR 趨勢洞察\", variant=\"primary\")\n",
        "\n",
        "    with gr.Accordion(\"📊 HR 趨勢分析報告\", open=True):\n",
        "        gr.Markdown(\"## 💡 AI 洞察摘要\")\n",
        "        summary_output = gr.Textbox(label=\"\", lines=6, interactive=False)\n",
        "        gr.Markdown(\"## 📝 AI 結論\")\n",
        "        conclusion_output = gr.Textbox(label=\"\", lines=5, interactive=False)\n",
        "\n",
        "    run_button.click(\n",
        "        fn=gradio_get_insights,\n",
        "        inputs=[keyword_dropdown],\n",
        "        outputs=[summary_output, conclusion_output]\n",
        "    )\n"
      ],
      "metadata": {
        "colab": {
          "base_uri": "https://localhost:8080/"
        },
        "id": "bHw9B5COQtfa",
        "outputId": "d8210f7f-b43c-4047-8c80-f58ccb23126e"
      },
      "execution_count": 43,
      "outputs": [
        {
          "output_type": "stream",
          "name": "stdout",
          "text": [
            "成功讀取 5 筆資料。\n"
          ]
        }
      ]
    },
    {
      "cell_type": "code",
      "source": [
        "print(\"\\n\" + \"=\"*50)\n",
        "print(\"Gradio 介面即將啟動...\")\n",
        "print(\"請點擊下方顯示的 Public URL (類似 xxx.gradio.live) 來開啟操作介面。\")\n",
        "print(\"=\"*50)\n",
        "demo.launch(debug=True, share=True)"
      ],
      "metadata": {
        "colab": {
          "base_uri": "https://localhost:8080/",
          "height": 732
        },
        "id": "AP7R8aUcZxps",
        "outputId": "e4c84db0-e8af-4388-9080-8012ff3d8226"
      },
      "execution_count": null,
      "outputs": [
        {
          "output_type": "stream",
          "name": "stdout",
          "text": [
            "\n",
            "==================================================\n",
            "Gradio 介面即將啟動...\n",
            "請點擊下方顯示的 Public URL (類似 xxx.gradio.live) 來開啟操作介面。\n",
            "==================================================\n",
            "Colab notebook detected. This cell will run indefinitely so that you can see errors and logs. To turn off, set debug=False in launch().\n",
            "* Running on public URL: https://abd7d5ec0d1268f533.gradio.live\n",
            "\n",
            "This share link expires in 1 week. For free permanent hosting and GPU upgrades, run `gradio deploy` from the terminal in the working directory to deploy to Hugging Face Spaces (https://huggingface.co/spaces)\n"
          ]
        },
        {
          "output_type": "display_data",
          "data": {
            "text/plain": [
              "<IPython.core.display.HTML object>"
            ],
            "text/html": [
              "<div><iframe src=\"https://abd7d5ec0d1268f533.gradio.live\" width=\"100%\" height=\"500\" allow=\"autoplay; camera; microphone; clipboard-read; clipboard-write;\" frameborder=\"0\" allowfullscreen></iframe></div>"
            ]
          },
          "metadata": {}
        },
        {
          "output_type": "stream",
          "name": "stdout",
          "text": [
            "🤖 正在呼叫 Gemini API，針對「engineer」生成洞察...\n",
            "✅ Gemini API 已成功生成內容。\n"
          ]
        }
      ]
    },
    {
      "cell_type": "code",
      "source": [],
      "metadata": {
        "id": "-nZKG9q8jJHX"
      },
      "execution_count": null,
      "outputs": []
    }
  ]
}