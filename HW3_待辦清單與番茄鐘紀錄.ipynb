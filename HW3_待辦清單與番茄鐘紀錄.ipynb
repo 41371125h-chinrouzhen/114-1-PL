{
  "nbformat": 4,
  "nbformat_minor": 0,
  "metadata": {
    "colab": {
      "provenance": [],
      "authorship_tag": "ABX9TyOsqE9HJEGTurvbf6Kie+9W",
      "include_colab_link": true
    },
    "kernelspec": {
      "name": "python3",
      "display_name": "Python 3"
    },
    "language_info": {
      "name": "python"
    }
  },
  "cells": [
    {
      "cell_type": "markdown",
      "metadata": {
        "id": "view-in-github",
        "colab_type": "text"
      },
      "source": [
        "<a href=\"https://colab.research.google.com/github/41371125h-chinrouzhen/114-1-PL/blob/main/HW3_%E5%BE%85%E8%BE%A6%E6%B8%85%E5%96%AE%E8%88%87%E7%95%AA%E8%8C%84%E9%90%98%E7%B4%80%E9%8C%84.ipynb\" target=\"_parent\"><img src=\"https://colab.research.google.com/assets/colab-badge.svg\" alt=\"Open In Colab\"/></a>"
      ]
    },
    {
      "cell_type": "markdown",
      "source": [
        "## **待辦清單與番茄鐘紀錄（作業三）**\n",
        "目標：在 Sheet 維護 To-do（狀態、預估時間、完成時間）→ Colab 輸出今日計畫與完成率 → 寫回完成標記。\n",
        "\n",
        "AI 點子：讓模型把今日任務排成三段行動計畫（morning/afternoon/evening）。\n"
      ],
      "metadata": {
        "id": "x6U5J13hbpHi"
      }
    },
    {
      "cell_type": "code",
      "source": [
        "# 環境設立\n",
        "!pip install --upgrade -q google-generativeai\n",
        "!pip install -q gspread oauth2client pandas plotly gradio\n",
        "\n",
        "import gspread\n",
        "from oauth2client.service_account import ServiceAccountCredentials\n",
        "import pandas as pd\n",
        "import time\n",
        "import datetime\n",
        "import json\n",
        "import plotly.express as px\n",
        "import gradio as gr\n",
        "from google.colab import userdata\n",
        "import google.generativeai as genai\n",
        "from IPython.display import Markdown, display\n",
        "import sys\n"
      ],
      "metadata": {
        "id": "HbRWoP2EQtBS"
      },
      "execution_count": 1,
      "outputs": []
    },
    {
      "cell_type": "code",
      "source": [
        "# Google Sheet 連線與操作\n",
        "def connect_to_sheet():\n",
        "    try:\n",
        "        scope = [\"https://spreadsheets.google.com/feeds\", 'https://www.googleapis.com/auth/drive']\n",
        "\n",
        "        creds = ServiceAccountCredentials.from_json_keyfile_name('gen-lang-client-0156076368-e711a064f70d.json', scope)\n",
        "        client = gspread.authorize(creds)\n",
        "\n",
        "        sheet = client.open(\"待辦清單與番茄鐘紀錄\").sheet1\n",
        "        print(\"已連線\")\n",
        "        return sheet, None\n",
        "    except Exception as e:\n",
        "        error_msg = f\"連線失敗\"\n",
        "        print(error_msg)\n",
        "        return None, error_msg\n",
        "\n",
        "def get_tasks_with_calculated_status(sheet):\n",
        "    if sheet is None: return pd.DataFrame()\n",
        "    try:\n",
        "        records = sheet.get_all_records()\n",
        "        now = datetime.datetime.now()\n",
        "        for task in records:\n",
        "            if task['狀態'] not in ['完成', '進行中']:\n",
        "                try:\n",
        "                    start_time = datetime.datetime.strptime(task['任務開始時間'], '%Y-%m-%d %H:%M')\n",
        "                    task['狀態'] = '休息' if now < start_time else '待辦'\n",
        "                except (ValueError, TypeError): task['狀態'] = '待辦'\n",
        "        return pd.DataFrame(records)\n",
        "    except Exception as e: print(f\"讀取任務失敗：{e}\"); return pd.DataFrame()\n",
        "\n",
        "def reconstruct_records_from_sheet(tasks_df):\n",
        "    \"\"\"掃描任務列表，將已完成的任務轉換成番茄鐘紀錄格式\"\"\"\n",
        "    if tasks_df.empty:\n",
        "        return []\n",
        "\n",
        "    completed_tasks = tasks_df[tasks_df['狀態'] == '完成']\n",
        "    reconstructed_records = []\n",
        "    for index, task in completed_tasks.iterrows():\n",
        "        # 進行基本的資料驗證\n",
        "        if task.get('完成時間') and task.get('預估時間 (分鐘)'):\n",
        "            record = {\n",
        "                \"task_name\": task['任務名稱'],\n",
        "                \"start_time\": \"N/A (from Sheet)\", # 歷史資料無此紀錄\n",
        "                \"end_time\": task['完成時間'],\n",
        "                \"duration_minutes\": task['預估時間 (分鐘)'] # 使用預估時間作為近似值\n",
        "            }\n",
        "            reconstructed_records.append(record)\n",
        "    return reconstructed_records\n",
        "\n",
        "def add_task(sheet, name, st, et): return f\"新增：'{name}'\" if sheet and sheet.append_row([name, st, '待辦', int(et), '']) else \"Sheet連線失敗\"\n",
        "def update_task_status(sheet, name, status, time=None):\n",
        "    if not sheet: return \"Sheet連線失敗\"\n",
        "    try:\n",
        "        cell = sheet.find(name); sheet.update_cell(cell.row, 3, status)\n",
        "        if status == '完成' and time: sheet.update_cell(cell.row, 5, time)\n",
        "    except Exception as e: print(f\"更新 '{name}' 狀態失敗：{e}\")\n",
        "def delete_task(sheet, name): return f\"刪除：'{name}'\" if sheet and sheet.delete_rows(sheet.find(name).row) else \"Sheet連線失敗\"\n"
      ],
      "metadata": {
        "id": "XKTs9IbtRFYq"
      },
      "execution_count": 8,
      "outputs": []
    },
    {
      "cell_type": "code",
      "source": [
        "# 檔案\n",
        "def save_to_file(records, selected_tasks, file_format='csv'):\n",
        "    if not records: return \"沒有任何已完成的紀錄可匯出。\"\n",
        "    records_to_export = [r for r in records if not selected_tasks or r['task_name'] in selected_tasks]\n",
        "    if not records_to_export: return \"沒有符合條件的紀錄可匯出。\"\n",
        "    filename = f\"pomodoro_records.{file_format}\"; df = pd.DataFrame(records_to_export)\n",
        "    if file_format == 'csv': df.to_csv(filename, index=False, encoding='utf-8-sig')\n",
        "    else: df.to_json(filename, orient='records', indent=4, force_ascii=False)\n",
        "    return f\"成功匯出 {len(records_to_export)} 筆紀錄至 {filename}！\"\n",
        "\n",
        "def load_from_file(app_state, upload_file):\n",
        "    if upload_file is None: return \"未上傳檔案。\", app_state\n",
        "    try:\n",
        "        if upload_file.name.endswith('.csv'): imported = pd.read_csv(upload_file.name).to_dict('records')\n",
        "        else:\n",
        "            with open(upload_file.name, 'r', encoding='utf-8') as f: imported = json.load(f)\n",
        "        all_records = app_state['pomodoro_records'] + imported\n",
        "        app_state['pomodoro_records'] = pd.DataFrame(all_records).drop_duplicates().to_dict('records')\n",
        "        return f\"成功匯入 {len(imported)} 筆紀錄！\", app_state\n",
        "    except Exception as e: return f\"匯入失敗：{e}\", app_state\n",
        "\n",
        "# 視覺化\n",
        "def visualize_stats(app_state):\n",
        "    records = app_state['pomodoro_records']\n",
        "    if not records: return None, \"沒有紀錄可供視覺化。\"\n",
        "    df = pd.DataFrame(records); summary = df.groupby('task_name')['duration_minutes'].sum().reset_index()\n",
        "    fig = px.bar(summary, x='task_name', y='duration_minutes', title='各任務總花費時間統計 (分鐘)')\n",
        "    return fig, \"圖表已生成\"\n",
        "\n",
        "# AI 函式\n",
        "def configure_ai():\n",
        "    try:\n",
        "        # 【修改點 3/3：請確認 Colab 密鑰中 'GEMINI_API_KEY' 已設定】\n",
        "        api_key = userdata.get('GEMINI_API_KEY')\n",
        "        genai.configure(api_key=api_key)\n",
        "        model = genai.GenerativeModel('gemini-pro-latest')\n",
        "        print(\"AI 模型已設定\")\n",
        "        return model, None\n",
        "    except Exception as e:\n",
        "        error_msg = f\"AI 模型設定失敗\"; print(error_msg); return None, error_msg\n",
        "\n",
        "def generate_ai_plan_wrapper(sheet, model, ai_error_msg):\n",
        "    if model is None: return ai_error_msg if ai_error_msg else \"AI 模型未設定。\"\n",
        "    df = get_tasks_with_calculated_status(sheet); pending_tasks = df[df['狀態'].isin(['待辦', '休息'])].to_dict('records')\n",
        "    if not pending_tasks: return \"太棒了！今天沒有待辦任務。\"\n",
        "    task_list_str = \"\\n\".join([f\"- {task['任務名稱']} (預估 {task['預估時間 (分鐘)']} 分鐘)\" for task in pending_tasks])\n",
        "    prompt = f\"你是一位專業的時間管理教練...(內容省略)...今日待辦任務清單：\\n{task_list_str}\"\n",
        "    try:\n",
        "        response = model.generate_content(prompt); return response.text\n",
        "    except Exception as e: return f\"AI 生成計畫失敗\"\n"
      ],
      "metadata": {
        "id": "neBxETTSiyiq"
      },
      "execution_count": 5,
      "outputs": []
    },
    {
      "cell_type": "code",
      "source": [
        "# 3. 初始化應用狀態\n",
        "sheet_instance, sheet_error = connect_to_sheet()\n",
        "gemini_model, ai_error_message = configure_ai()\n",
        "INITIAL_APP_STATE = {\"timer_running\": False, \"current_task_name\": None, \"timer_start_time\": None, \"pomodoro_duration_seconds\": 25 * 60, \"pomodoro_records\": []}"
      ],
      "metadata": {
        "id": "0Or2SnllNLUf",
        "colab": {
          "base_uri": "https://localhost:8080/"
        },
        "outputId": "10553b6e-d2db-484f-c202-97bf7a8346fd"
      },
      "execution_count": 6,
      "outputs": [
        {
          "output_type": "stream",
          "name": "stdout",
          "text": [
            "已連線\n",
            "AI 模型已設定\n"
          ]
        }
      ]
    },
    {
      "cell_type": "code",
      "source": [
        "# Gradio 應用程式定義與綁定\n",
        "\n",
        "# 只有在成功連線到 Sheet 後才啟動 Gradio\n",
        "if sheet_instance:\n",
        "    with gr.Blocks(theme=gr.themes.Soft(), title=\"待辦事項與番茄鐘\") as demo:\n",
        "        # --- UI 元件與狀態定義 ---\n",
        "        app_state = gr.State(value=INITIAL_APP_STATE)\n",
        "        gr.Markdown(\"# 📝 待辦事項與番茄鐘 Pro\"); status_textbox = gr.Textbox(label=\"系統狀態\", interactive=False, value=\"應用程式已啟動。\")\n",
        "        with gr.Tabs():\n",
        "            with gr.TabItem(\"🕒 總覽與計時\"):\n",
        "                tasks_df_display = gr.DataFrame(interactive=False, label=\"任務列表\"); refresh_button = gr.Button(\"🔄 從 Google Sheet 刷新\")\n",
        "                with gr.Row(): timer_task_dropdown = gr.Dropdown(choices=[], label=\"選擇要開始的任務\"); timer_display = gr.Textbox(\"25:00\", label=\"計時器\", interactive=False)\n",
        "                with gr.Row(): start_button = gr.Button(\"▶️ 開始番茄鐘\", variant=\"primary\"); stop_button = gr.Button(\"⏹️ 停止/中斷\", variant=\"stop\", interactive=False)\n",
        "            with gr.TabItem(\"➕➖ 新增/刪除任務\"):\n",
        "                with gr.Row():\n",
        "                    with gr.Column(): gr.Markdown(\"### 新增任務\"); add_name_input = gr.Textbox(label=\"任務名稱\"); add_start_time_input = gr.Textbox(label=\"任務開始時間\", placeholder=\"格式：YYYY-MM-DD HH:MM\"); add_est_time_input = gr.Number(label=\"預估時間 (分鐘)\", value=25); add_button = gr.Button(\"新增\", variant=\"primary\")\n",
        "                    with gr.Column(): gr.Markdown(\"### 刪除任務\"); delete_task_dropdown = gr.Dropdown(choices=[], label=\"選擇要刪除的任務\"); delete_button = gr.Button(\"刪除\", variant=\"stop\")\n",
        "            with gr.TabItem(\"💾 匯出/匯入紀錄\"):\n",
        "                gr.Markdown(\"### 匯出已完成的番茄鐘紀錄\"); export_task_selector = gr.Dropdown(choices=[], multiselect=True, label=\"選擇要匯出的任務 (可多選，不選則匯出全部)\")\n",
        "                with gr.Row(): export_select_all_button = gr.Button(\"全選\", variant=\"secondary\"); export_csv_button = gr.Button(\"匯出為 CSV\"); export_json_button = gr.Button(\"匯出為 JSON\")\n",
        "                gr.Markdown(\"---\"); gr.Markdown(\"### 從檔案匯入紀錄\"); import_file_input = gr.File(label=\"上傳 CSV/JSON 檔案\"); import_button = gr.Button(\"開始匯入\")\n",
        "            with gr.TabItem(\"📊 統計視覺化\"):\n",
        "                visualize_button = gr.Button(\"生成統計圖表\"); plot_display = gr.Plot(label=\"任務時間分佈圖\")\n",
        "            with gr.TabItem(\"🤖 AI 行動計畫\"):\n",
        "                generate_ai_plan_button = gr.Button(\"🚀 幫我規劃今天的行動！\", variant=\"primary\"); ai_plan_display = gr.Markdown(value=ai_error_message if ai_error_message else \"點擊按鈕。\")\n",
        "\n",
        "        # --- Gradio Wrapper and Event Listeners ---\n",
        "        def start_timer_wrapper(current_app_state, task_name):\n",
        "            if not task_name: return current_app_state, \"⚠️ 請選擇任務\", gr.update(), gr.update(), gr.update(), gr.update()\n",
        "            if current_app_state[\"timer_running\"]: return current_app_state, \"⚠️ 任務進行中\", gr.update(), gr.update(), gr.update(), gr.update()\n",
        "            current_app_state[\"timer_running\"] = True; current_app_state[\"current_task_name\"] = task_name; current_app_state[\"timer_start_time\"] = time.time()\n",
        "            update_task_status(sheet_instance, task_name, \"進行中\")\n",
        "            minutes, seconds = divmod(current_app_state['pomodoro_duration_seconds'], 60)\n",
        "            return current_app_state, f\"✅ 開始：{task_name}\", f\"{minutes:02d}:{seconds:02d}\", gr.update(interactive=False), gr.update(interactive=True), get_tasks_with_calculated_status(sheet_instance)\n",
        "\n",
        "        def stop_timer_wrapper(current_app_state, is_manual_stop=True):\n",
        "            if not current_app_state[\"timer_running\"]: return current_app_state, \"⚠️ 計時器未啟動\", gr.update(), gr.update(), gr.update(), gr.update(), gr.update()\n",
        "            task_name = current_app_state[\"current_task_name\"]; duration = time.time() - current_app_state[\"timer_start_time\"]\n",
        "            record = {\"task_name\": task_name, \"start_time\": datetime.datetime.fromtimestamp(current_app_state[\"timer_start_time\"]).strftime('%Y-%m-%d %H:%M:%S'), \"end_time\": datetime.datetime.now().strftime('%Y-%m-%d %H:%M:%S'), \"duration_minutes\": round(duration / 60, 2)}\n",
        "            current_app_state['pomodoro_records'].append(record)\n",
        "            if not is_manual_stop:\n",
        "                update_task_status(sheet_instance, task_name, \"完成\", datetime.datetime.now().strftime('%Y-%m-%d %H:%M:%S')); status_msg = f\"🎉 完成：{task_name}\"\n",
        "            else:\n",
        "                update_task_status(sheet_instance, task_name, \"待辦\"); status_msg = f\"⏸️ 停止：{task_name}\"\n",
        "            current_app_state[\"timer_running\"] = False; current_app_state[\"current_task_name\"] = None\n",
        "            export_choices = sorted(list(set([r['task_name'] for r in current_app_state['pomodoro_records']])))\n",
        "            return current_app_state, status_msg, \"25:00\", gr.update(interactive=True), gr.update(interactive=False), get_tasks_with_calculated_status(sheet_instance), gr.update(choices=export_choices)\n",
        "\n",
        "        def timer_loop_generator(current_app_state):\n",
        "            while current_app_state[\"timer_running\"]:\n",
        "                elapsed = time.time() - current_app_state[\"timer_start_time\"]; remaining_seconds = max(0, current_app_state[\"pomodoro_duration_seconds\"] - int(elapsed))\n",
        "                if remaining_seconds == 0:\n",
        "                    current_app_state, status_msg, time_str, start_btn, stop_btn, tasks_df, export_choices = stop_timer_wrapper(current_app_state, is_manual_stop=False)\n",
        "                    yield {app_state: current_app_state, status_textbox: status_msg, timer_display: time_str, start_button: start_btn, stop_button: stop_btn, tasks_df_display: tasks_df, export_task_selector: export_choices}; break\n",
        "                else:\n",
        "                    minutes, seconds = divmod(remaining_seconds, 60); yield {app_state: current_app_state, timer_display: f\"{minutes:02d}:{seconds:02d}\"}; time.sleep(1)\n",
        "            yield {app_state: current_app_state}\n",
        "\n",
        "        def refresh_all_ui(current_app_state):\n",
        "            \"\"\"刷新所有UI元件，並從Sheet重建歷史紀錄\"\"\"\n",
        "            df = get_tasks_with_calculated_status(sheet_instance)\n",
        "            main_choices = df['任務名稱'].tolist() if not df.empty else []\n",
        "            reconstructed_records = reconstruct_records_from_sheet(df)\n",
        "            all_records = reconstructed_records + current_app_state['pomodoro_records']\n",
        "            current_app_state['pomodoro_records'] = pd.DataFrame(all_records).drop_duplicates(subset=['task_name', 'end_time']).to_dict('records')\n",
        "            export_choices = sorted(list(set([r['task_name'] for r in current_app_state['pomodoro_records']])))\n",
        "            return current_app_state, df, gr.update(choices=main_choices), gr.update(choices=main_choices), gr.update(choices=export_choices)\n",
        "\n",
        "        def refresh_export_ui(current_app_state):\n",
        "            export_choices = sorted(list(set([r['task_name'] for r in current_app_state['pomodoro_records']])))\n",
        "            return gr.update(choices=export_choices)\n",
        "\n",
        "        def select_all_export_tasks(current_app_state):\n",
        "            choices = sorted(list(set([r['task_name'] for r in current_app_state['pomodoro_records']])))\n",
        "            return gr.update(value=choices)\n",
        "\n",
        "        # --- Event Listeners ---\n",
        "        demo.load(fn=refresh_all_ui, inputs=[app_state], outputs=[app_state, tasks_df_display, timer_task_dropdown, delete_task_dropdown, export_task_selector])\n",
        "\n",
        "        start_button.click(fn=start_timer_wrapper, inputs=[app_state, timer_task_dropdown], outputs=[app_state, status_textbox, timer_display, start_button, stop_button, tasks_df_display]).then(fn=timer_loop_generator, inputs=[app_state], outputs={app_state, status_textbox, timer_display, start_button, stop_button, tasks_df_display, export_task_selector})\n",
        "        stop_button.click(fn=stop_timer_wrapper, inputs=[app_state], outputs=[app_state, status_textbox, timer_display, start_button, stop_button, tasks_df_display, export_task_selector])\n",
        "        refresh_button.click(fn=refresh_all_ui, inputs=[app_state], outputs=[app_state, tasks_df_display, timer_task_dropdown, delete_task_dropdown, export_task_selector])\n",
        "\n",
        "        add_button.click(lambda n, s, e, state: (add_task(sheet_instance, n, s, e), *refresh_all_ui(state)), inputs=[add_name_input, add_start_time_input, add_est_time_input, app_state], outputs=[status_textbox, app_state, tasks_df_display, timer_task_dropdown, delete_task_dropdown, export_task_selector])\n",
        "        delete_button.click(lambda n, state: (delete_task(sheet_instance, n), *refresh_all_ui(state)), inputs=[delete_task_dropdown, app_state], outputs=[status_textbox, app_state, tasks_df_display, timer_task_dropdown, delete_task_dropdown, export_task_selector])\n",
        "\n",
        "        export_csv_button.click(fn=save_to_file, inputs=[app_state, export_task_selector, gr.State('csv')], outputs=[status_textbox])\n",
        "        export_json_button.click(fn=save_to_file, inputs=[app_state, export_task_selector, gr.State('json')], outputs=[status_textbox])\n",
        "        export_select_all_button.click(fn=select_all_export_tasks, inputs=[app_state], outputs=[export_task_selector])\n",
        "\n",
        "        import_button.click(fn=load_from_file, inputs=[app_state, import_file_input], outputs=[status_textbox, app_state]).then(fn=refresh_all_ui, inputs=[app_state], outputs=[tasks_df_display, timer_task_dropdown, delete_task_dropdown, export_task_selector])\n",
        "        visualize_button.click(fn=visualize_stats, inputs=[app_state], outputs=[plot_display, status_textbox])\n",
        "        generate_ai_plan_button.click(fn=lambda: generate_ai_plan_wrapper(sheet_instance, gemini_model, ai_error_message), outputs=[ai_plan_display])\n",
        "\n",
        "    # 啟動\n",
        "    print(\"\\n✅ 正在啟動 Gradio 應用程式...\")\n",
        "    demo.launch(share=True, debug=True)\n",
        "else:\n",
        "    print(\"\\n❌ Google Sheet 連線失敗，無法啟動 Gradio 應用程式。\")"
      ],
      "metadata": {
        "id": "S0r14OuQOVgl",
        "colab": {
          "base_uri": "https://localhost:8080/",
          "height": 680
        },
        "outputId": "0a0f72bf-3d43-42d5-855f-f437cdba9fb1"
      },
      "execution_count": 10,
      "outputs": [
        {
          "output_type": "stream",
          "name": "stdout",
          "text": [
            "\n",
            "✅ 正在啟動 Gradio 應用程式...\n",
            "Colab notebook detected. This cell will run indefinitely so that you can see errors and logs. To turn off, set debug=False in launch().\n",
            "* Running on public URL: https://0e9297c3cb0c843a74.gradio.live\n",
            "\n",
            "This share link expires in 1 week. For free permanent hosting and GPU upgrades, run `gradio deploy` from the terminal in the working directory to deploy to Hugging Face Spaces (https://huggingface.co/spaces)\n"
          ]
        },
        {
          "output_type": "display_data",
          "data": {
            "text/plain": [
              "<IPython.core.display.HTML object>"
            ],
            "text/html": [
              "<div><iframe src=\"https://0e9297c3cb0c843a74.gradio.live\" width=\"100%\" height=\"500\" allow=\"autoplay; camera; microphone; clipboard-read; clipboard-write;\" frameborder=\"0\" allowfullscreen></iframe></div>"
            ]
          },
          "metadata": {}
        },
        {
          "output_type": "stream",
          "name": "stdout",
          "text": [
            "Keyboard interruption in main thread... closing server.\n",
            "Killing tunnel 127.0.0.1:7860 <> https://0e9297c3cb0c843a74.gradio.live\n"
          ]
        }
      ]
    },
    {
      "cell_type": "code",
      "source": [],
      "metadata": {
        "id": "Sk0ISGD3j29N"
      },
      "execution_count": null,
      "outputs": []
    }
  ]
}