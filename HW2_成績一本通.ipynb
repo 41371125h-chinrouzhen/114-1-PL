{
  "nbformat": 4,
  "nbformat_minor": 0,
  "metadata": {
    "colab": {
      "provenance": [],
      "authorship_tag": "ABX9TyMA84lGlC40M5WomlVOGxNs",
      "include_colab_link": true
    },
    "kernelspec": {
      "name": "python3",
      "display_name": "Python 3"
    },
    "language_info": {
      "name": "python"
    }
  },
  "cells": [
    {
      "cell_type": "markdown",
      "metadata": {
        "id": "view-in-github",
        "colab_type": "text"
      },
      "source": [
        "<a href=\"https://colab.research.google.com/github/41371125h-chinrouzhen/114-1-PL/blob/main/HW2_%E6%88%90%E7%B8%BE%E4%B8%80%E6%9C%AC%E9%80%9A.ipynb\" target=\"_parent\"><img src=\"https://colab.research.google.com/assets/colab-badge.svg\" alt=\"Open In Colab\"/></a>"
      ]
    },
    {
      "cell_type": "code",
      "execution_count": 1,
      "metadata": {
        "colab": {
          "base_uri": "https://localhost:8080/"
        },
        "id": "BjhFiZbES9es",
        "outputId": "a0a13b40-44bd-43ed-de11-8c8a99abdbee"
      },
      "outputs": [
        {
          "output_type": "stream",
          "name": "stdout",
          "text": [
            "已更新\n"
          ]
        }
      ],
      "source": [
        "# 套件與認證\n",
        "import pandas as pd\n",
        "import numpy as np\n",
        "import gspread\n",
        "from google.colab import auth\n",
        "from google.auth import default\n",
        "import time\n",
        "from datetime import datetime\n",
        "import getpass\n",
        "\n",
        "auth.authenticate_user()\n",
        "creds, _ = default()\n",
        "client = gspread.authorize(creds)\n",
        "\n",
        "# Google Sheet\n",
        "SHEET_URL = \"https://docs.google.com/spreadsheets/d/1HA1cvniLmO1O362GtHlrLEK3TQ8_XQJBULMpbaU-29s/edit?usp=sharing\"\n",
        "RECORDS_SHEET = \"Records\"\n",
        "SUMMARY_SHEET = \"Summary\"\n",
        "\n",
        "# Reecord\n",
        "def read_records_df():\n",
        "    ws = client.open_by_url(SHEET_URL).worksheet(RECORDS_SHEET)\n",
        "    data = ws.get_all_values()\n",
        "    if not data:\n",
        "        return pd.DataFrame()\n",
        "    df = pd.DataFrame(data[1:], columns=data[0])\n",
        "    numeric_cols = [\"作業1\",\"作業2\",\"作業3\",\"小測1\",\"小測2\",\"期末\"]\n",
        "    for col in numeric_cols:\n",
        "        if col in df.columns:\n",
        "            df[col] = pd.to_numeric(df[col], errors=\"coerce\").fillna(0)\n",
        "    if '開放式作答' in df.columns:\n",
        "        df['開放式作答'] = df['開放式作答'].fillna(\"\").astype(str)\n",
        "    else:\n",
        "        df['開放式作答'] = \"\"\n",
        "    return df\n",
        "\n",
        "df = read_records_df()\n",
        "\n",
        "# Cal\n",
        "homework_cols = [\"作業1\",\"作業2\",\"作業3\"]\n",
        "quiz_cols = [\"小測1\",\"小測2\"]\n",
        "df['平時成績'] = df[homework_cols + quiz_cols].mean(axis=1)\n",
        "df['總成績'] = df['平時成績']*0.4 + df['期末']*0.6\n",
        "\n",
        "\n",
        "# 寫回\n",
        "try:\n",
        "    summary_ws = client.open_by_url(SHEET_URL).worksheet(SUMMARY_SHEET)\n",
        "    summary_ws.clear()\n",
        "except gspread.WorksheetNotFound:\n",
        "    summary_ws = client.open_by_url(SHEET_URL).add_worksheet(title=SUMMARY_SHEET, rows=\"100\", cols=\"20\")\n",
        "\n",
        "summary_ws.update([df.columns.values.tolist()] + df.values.tolist())\n",
        "print(f\"已更新\")\n",
        "\n"
      ]
    },
    {
      "cell_type": "code",
      "source": [],
      "metadata": {
        "id": "r-PEHbvfXf7F"
      },
      "execution_count": null,
      "outputs": []
    }
  ]
}